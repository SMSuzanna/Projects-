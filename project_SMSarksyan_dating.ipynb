{
 "cells": [
  {
   "cell_type": "markdown",
   "metadata": {},
   "source": [
    "## Проект: вариант 3\n",
    "\n",
    "Представьте, что вы работаете в крупном дейтинговом приложении. \n",
    "\n",
    "Помимо базовых функций, в приложении также имеется премиум-подписка, которая дает доступ к ряду важных дополнительных возможностей. Был проведен A/B тест, в рамках которого для новых пользователей из нескольких стран была изменена стоимость премиум-подписки* при покупке через две новые платежные системы. При этом стоимость пробного периода оставалась прежней.\n",
    "\n",
    "### Проверьте:\n",
    "\n",
    "Был ли эксперимент успешен в целом.\n",
    "Проанализируйте, имеет ли нововведение смысл среди каких-либо конкретных групп пользователей.\n",
    "\n",
    "*Деньги за подписку списываются ежемесячно до тех пор, пока пользователь её не отменит."
   ]
  },
  {
   "cell_type": "code",
   "execution_count": 1,
   "metadata": {},
   "outputs": [],
   "source": [
    "#импортируем нужные библиотеки \n",
    "import pandas as pd\n",
    "from datetime import datetime\n",
    "from datetime import timedelta\n",
    "from scipy import stats\n",
    "from scipy.stats import ttest_ind\n",
    "from scipy.stats import norm\n",
    "import numpy as np\n",
    "from tqdm.auto import tqdm\n",
    "import statsmodels.api as sm\n",
    "from scipy.stats import chi2_contingency\n",
    "\n",
    "import seaborn as sns\n",
    "import matplotlib.pyplot as plt\n",
    "\n",
    "%matplotlib inline"
   ]
  },
  {
   "cell_type": "code",
   "execution_count": 2,
   "metadata": {},
   "outputs": [],
   "source": [
    "#загружаем нужные файлы\n",
    "users_test        = pd.read_csv('/mnt/HC_Volume_18315164/home-jupyter/jupyter-s-sarksjan/my_project/Проект_3_users_test.csv', sep = \";\") \n",
    "users_control_1   = pd.read_csv('/mnt/HC_Volume_18315164/home-jupyter/jupyter-s-sarksjan/my_project/Проект_3_users_control_1.csv', sep = \";\")  \n",
    "users_control_2   = pd.read_csv('/mnt/HC_Volume_18315164/home-jupyter/jupyter-s-sarksjan/my_project/Проект_3_users_control_2.csv', sep = \";\") \n",
    " "
   ]
  },
  {
   "cell_type": "code",
   "execution_count": 3,
   "metadata": {},
   "outputs": [],
   "source": [
    "#при анализе данных обнаружено, что необходимо перевести колонки с датами к формату datetime, добавляем сразу при загрузке\n",
    "transactions_test = pd.read_csv('/mnt/HC_Volume_18315164/home-jupyter/jupyter-s-sarksjan/my_project/Проект_3_transactions_test.csv', sep = \";\", \n",
    "                                parse_dates = ['joined_at', 'paid_at'])\n",
    "trans_control_1   = pd.read_csv('/mnt/HC_Volume_18315164/home-jupyter/jupyter-s-sarksjan/my_project/Проект_3_transactions_control_1.csv', sep = \";\", \n",
    "                                parse_dates = ['joined_at', 'paid_at'])  \n",
    "trans_control_2   = pd.read_csv('/mnt/HC_Volume_18315164/home-jupyter/jupyter-s-sarksjan/my_project/Проект_3_transactions_control_2.csv', sep = \";\",\n",
    "                                parse_dates = ['joined_at', 'paid_at'])"
   ]
  },
  {
   "cell_type": "code",
   "execution_count": 4,
   "metadata": {},
   "outputs": [],
   "source": [
    "#создаем функцию для вывода некоторых общих показателей\n",
    "def analysis_first(x):\n",
    "    df_info = pd.concat([x.dtypes, x.nunique(), x.isna().sum()], axis=1).reset_index()\n",
    "    df_info = df_info.rename(columns={'index': 'column', 0: 'Тип данных', 1: 'Уникальные значения', 2: 'Пропуски'})\n",
    "    print('Количество строк в файле:', x.shape[0])\n",
    "    print('Количество колонок в файле:', x.shape[1])\n",
    "    print('Количество дубликатов:', x.duplicated().sum())\n",
    "    return df_info"
   ]
  },
  {
   "cell_type": "markdown",
   "metadata": {},
   "source": [
    "## Первичный анализ и предобработка данных\n",
    "\n",
    " ### 1. Таблицы users\n"
   ]
  },
  {
   "cell_type": "code",
   "execution_count": 5,
   "metadata": {
    "scrolled": true
   },
   "outputs": [
    {
     "name": "stdout",
     "output_type": "stream",
     "text": [
      "Общее число строк и колонок в датасетах группы users:  тест: (4308, 13) , контроль 1: (4340, 13) , контроль 2: (4264, 13)\n"
     ]
    }
   ],
   "source": [
    "#посмотрим на общий размер таблиц useres\n",
    "print(f'Общее число строк и колонок в датасетах группы users:  тест:',users_test.shape, ', контроль 1:',\n",
    "      users_control_1.shape, ', контроль 2:', users_control_2.shape)"
   ]
  },
  {
   "cell_type": "markdown",
   "metadata": {},
   "source": [
    "Таблица users_test"
   ]
  },
  {
   "cell_type": "code",
   "execution_count": 6,
   "metadata": {},
   "outputs": [
    {
     "name": "stdout",
     "output_type": "stream",
     "text": [
      "Количество строк в файле: 4308\n",
      "Количество колонок в файле: 13\n",
      "Количество дубликатов: 0\n"
     ]
    },
    {
     "data": {
      "text/html": [
       "<div>\n",
       "<style scoped>\n",
       "    .dataframe tbody tr th:only-of-type {\n",
       "        vertical-align: middle;\n",
       "    }\n",
       "\n",
       "    .dataframe tbody tr th {\n",
       "        vertical-align: top;\n",
       "    }\n",
       "\n",
       "    .dataframe thead th {\n",
       "        text-align: right;\n",
       "    }\n",
       "</style>\n",
       "<table border=\"1\" class=\"dataframe\">\n",
       "  <thead>\n",
       "    <tr style=\"text-align: right;\">\n",
       "      <th></th>\n",
       "      <th>column</th>\n",
       "      <th>Тип данных</th>\n",
       "      <th>Уникальные значения</th>\n",
       "      <th>Пропуски</th>\n",
       "    </tr>\n",
       "  </thead>\n",
       "  <tbody>\n",
       "    <tr>\n",
       "      <th>0</th>\n",
       "      <td>uid</td>\n",
       "      <td>int64</td>\n",
       "      <td>4308</td>\n",
       "      <td>0</td>\n",
       "    </tr>\n",
       "    <tr>\n",
       "      <th>1</th>\n",
       "      <td>age</td>\n",
       "      <td>int64</td>\n",
       "      <td>57</td>\n",
       "      <td>0</td>\n",
       "    </tr>\n",
       "    <tr>\n",
       "      <th>2</th>\n",
       "      <td>attraction_coeff</td>\n",
       "      <td>int64</td>\n",
       "      <td>600</td>\n",
       "      <td>0</td>\n",
       "    </tr>\n",
       "    <tr>\n",
       "      <th>3</th>\n",
       "      <td>coins</td>\n",
       "      <td>float64</td>\n",
       "      <td>28</td>\n",
       "      <td>4259</td>\n",
       "    </tr>\n",
       "    <tr>\n",
       "      <th>4</th>\n",
       "      <td>country</td>\n",
       "      <td>object</td>\n",
       "      <td>51</td>\n",
       "      <td>0</td>\n",
       "    </tr>\n",
       "    <tr>\n",
       "      <th>5</th>\n",
       "      <td>visit_days</td>\n",
       "      <td>object</td>\n",
       "      <td>891</td>\n",
       "      <td>1330</td>\n",
       "    </tr>\n",
       "    <tr>\n",
       "      <th>6</th>\n",
       "      <td>gender</td>\n",
       "      <td>int64</td>\n",
       "      <td>2</td>\n",
       "      <td>0</td>\n",
       "    </tr>\n",
       "    <tr>\n",
       "      <th>7</th>\n",
       "      <td>age_filter_start</td>\n",
       "      <td>int64</td>\n",
       "      <td>51</td>\n",
       "      <td>0</td>\n",
       "    </tr>\n",
       "    <tr>\n",
       "      <th>8</th>\n",
       "      <td>age_filter_end</td>\n",
       "      <td>int64</td>\n",
       "      <td>78</td>\n",
       "      <td>0</td>\n",
       "    </tr>\n",
       "    <tr>\n",
       "      <th>9</th>\n",
       "      <td>views_count</td>\n",
       "      <td>int64</td>\n",
       "      <td>331</td>\n",
       "      <td>0</td>\n",
       "    </tr>\n",
       "    <tr>\n",
       "      <th>10</th>\n",
       "      <td>was_premium</td>\n",
       "      <td>float64</td>\n",
       "      <td>1</td>\n",
       "      <td>3900</td>\n",
       "    </tr>\n",
       "    <tr>\n",
       "      <th>11</th>\n",
       "      <td>is_premium</td>\n",
       "      <td>float64</td>\n",
       "      <td>1</td>\n",
       "      <td>4151</td>\n",
       "    </tr>\n",
       "    <tr>\n",
       "      <th>12</th>\n",
       "      <td>total_revenue</td>\n",
       "      <td>int64</td>\n",
       "      <td>105</td>\n",
       "      <td>0</td>\n",
       "    </tr>\n",
       "  </tbody>\n",
       "</table>\n",
       "</div>"
      ],
      "text/plain": [
       "              column Тип данных  Уникальные значения  Пропуски\n",
       "0                uid      int64                 4308         0\n",
       "1                age      int64                   57         0\n",
       "2   attraction_coeff      int64                  600         0\n",
       "3              coins    float64                   28      4259\n",
       "4            country     object                   51         0\n",
       "5         visit_days     object                  891      1330\n",
       "6             gender      int64                    2         0\n",
       "7   age_filter_start      int64                   51         0\n",
       "8     age_filter_end      int64                   78         0\n",
       "9        views_count      int64                  331         0\n",
       "10       was_premium    float64                    1      3900\n",
       "11        is_premium    float64                    1      4151\n",
       "12     total_revenue      int64                  105         0"
      ]
     },
     "execution_count": 6,
     "metadata": {},
     "output_type": "execute_result"
    }
   ],
   "source": [
    "#применяем функцию\n",
    "analysis_first(users_test)"
   ]
  },
  {
   "cell_type": "markdown",
   "metadata": {},
   "source": [
    "Таблица users_control_1"
   ]
  },
  {
   "cell_type": "code",
   "execution_count": 7,
   "metadata": {},
   "outputs": [
    {
     "name": "stdout",
     "output_type": "stream",
     "text": [
      "Количество строк в файле: 4340\n",
      "Количество колонок в файле: 13\n",
      "Количество дубликатов: 0\n"
     ]
    },
    {
     "data": {
      "text/html": [
       "<div>\n",
       "<style scoped>\n",
       "    .dataframe tbody tr th:only-of-type {\n",
       "        vertical-align: middle;\n",
       "    }\n",
       "\n",
       "    .dataframe tbody tr th {\n",
       "        vertical-align: top;\n",
       "    }\n",
       "\n",
       "    .dataframe thead th {\n",
       "        text-align: right;\n",
       "    }\n",
       "</style>\n",
       "<table border=\"1\" class=\"dataframe\">\n",
       "  <thead>\n",
       "    <tr style=\"text-align: right;\">\n",
       "      <th></th>\n",
       "      <th>column</th>\n",
       "      <th>Тип данных</th>\n",
       "      <th>Уникальные значения</th>\n",
       "      <th>Пропуски</th>\n",
       "    </tr>\n",
       "  </thead>\n",
       "  <tbody>\n",
       "    <tr>\n",
       "      <th>0</th>\n",
       "      <td>uid</td>\n",
       "      <td>int64</td>\n",
       "      <td>4340</td>\n",
       "      <td>0</td>\n",
       "    </tr>\n",
       "    <tr>\n",
       "      <th>1</th>\n",
       "      <td>age</td>\n",
       "      <td>int64</td>\n",
       "      <td>56</td>\n",
       "      <td>0</td>\n",
       "    </tr>\n",
       "    <tr>\n",
       "      <th>2</th>\n",
       "      <td>attraction_coeff</td>\n",
       "      <td>int64</td>\n",
       "      <td>587</td>\n",
       "      <td>0</td>\n",
       "    </tr>\n",
       "    <tr>\n",
       "      <th>3</th>\n",
       "      <td>coins</td>\n",
       "      <td>float64</td>\n",
       "      <td>22</td>\n",
       "      <td>4280</td>\n",
       "    </tr>\n",
       "    <tr>\n",
       "      <th>4</th>\n",
       "      <td>country</td>\n",
       "      <td>object</td>\n",
       "      <td>40</td>\n",
       "      <td>0</td>\n",
       "    </tr>\n",
       "    <tr>\n",
       "      <th>5</th>\n",
       "      <td>visit_days</td>\n",
       "      <td>object</td>\n",
       "      <td>880</td>\n",
       "      <td>1324</td>\n",
       "    </tr>\n",
       "    <tr>\n",
       "      <th>6</th>\n",
       "      <td>gender</td>\n",
       "      <td>int64</td>\n",
       "      <td>2</td>\n",
       "      <td>0</td>\n",
       "    </tr>\n",
       "    <tr>\n",
       "      <th>7</th>\n",
       "      <td>age_filter_start</td>\n",
       "      <td>int64</td>\n",
       "      <td>53</td>\n",
       "      <td>0</td>\n",
       "    </tr>\n",
       "    <tr>\n",
       "      <th>8</th>\n",
       "      <td>age_filter_end</td>\n",
       "      <td>int64</td>\n",
       "      <td>78</td>\n",
       "      <td>0</td>\n",
       "    </tr>\n",
       "    <tr>\n",
       "      <th>9</th>\n",
       "      <td>views_count</td>\n",
       "      <td>int64</td>\n",
       "      <td>339</td>\n",
       "      <td>0</td>\n",
       "    </tr>\n",
       "    <tr>\n",
       "      <th>10</th>\n",
       "      <td>was_premium</td>\n",
       "      <td>float64</td>\n",
       "      <td>1</td>\n",
       "      <td>3904</td>\n",
       "    </tr>\n",
       "    <tr>\n",
       "      <th>11</th>\n",
       "      <td>is_premium</td>\n",
       "      <td>float64</td>\n",
       "      <td>1</td>\n",
       "      <td>4148</td>\n",
       "    </tr>\n",
       "    <tr>\n",
       "      <th>12</th>\n",
       "      <td>total_revenue</td>\n",
       "      <td>int64</td>\n",
       "      <td>128</td>\n",
       "      <td>0</td>\n",
       "    </tr>\n",
       "  </tbody>\n",
       "</table>\n",
       "</div>"
      ],
      "text/plain": [
       "              column Тип данных  Уникальные значения  Пропуски\n",
       "0                uid      int64                 4340         0\n",
       "1                age      int64                   56         0\n",
       "2   attraction_coeff      int64                  587         0\n",
       "3              coins    float64                   22      4280\n",
       "4            country     object                   40         0\n",
       "5         visit_days     object                  880      1324\n",
       "6             gender      int64                    2         0\n",
       "7   age_filter_start      int64                   53         0\n",
       "8     age_filter_end      int64                   78         0\n",
       "9        views_count      int64                  339         0\n",
       "10       was_premium    float64                    1      3904\n",
       "11        is_premium    float64                    1      4148\n",
       "12     total_revenue      int64                  128         0"
      ]
     },
     "execution_count": 7,
     "metadata": {},
     "output_type": "execute_result"
    }
   ],
   "source": [
    "#применяем функцию\n",
    "analysis_first(users_control_1)"
   ]
  },
  {
   "cell_type": "markdown",
   "metadata": {},
   "source": [
    "Таблица users_control_2"
   ]
  },
  {
   "cell_type": "code",
   "execution_count": 8,
   "metadata": {},
   "outputs": [
    {
     "name": "stdout",
     "output_type": "stream",
     "text": [
      "Количество строк в файле: 4264\n",
      "Количество колонок в файле: 13\n",
      "Количество дубликатов: 0\n"
     ]
    },
    {
     "data": {
      "text/html": [
       "<div>\n",
       "<style scoped>\n",
       "    .dataframe tbody tr th:only-of-type {\n",
       "        vertical-align: middle;\n",
       "    }\n",
       "\n",
       "    .dataframe tbody tr th {\n",
       "        vertical-align: top;\n",
       "    }\n",
       "\n",
       "    .dataframe thead th {\n",
       "        text-align: right;\n",
       "    }\n",
       "</style>\n",
       "<table border=\"1\" class=\"dataframe\">\n",
       "  <thead>\n",
       "    <tr style=\"text-align: right;\">\n",
       "      <th></th>\n",
       "      <th>column</th>\n",
       "      <th>Тип данных</th>\n",
       "      <th>Уникальные значения</th>\n",
       "      <th>Пропуски</th>\n",
       "    </tr>\n",
       "  </thead>\n",
       "  <tbody>\n",
       "    <tr>\n",
       "      <th>0</th>\n",
       "      <td>uid</td>\n",
       "      <td>int64</td>\n",
       "      <td>4264</td>\n",
       "      <td>0</td>\n",
       "    </tr>\n",
       "    <tr>\n",
       "      <th>1</th>\n",
       "      <td>age</td>\n",
       "      <td>int64</td>\n",
       "      <td>59</td>\n",
       "      <td>0</td>\n",
       "    </tr>\n",
       "    <tr>\n",
       "      <th>2</th>\n",
       "      <td>attraction_coeff</td>\n",
       "      <td>int64</td>\n",
       "      <td>585</td>\n",
       "      <td>0</td>\n",
       "    </tr>\n",
       "    <tr>\n",
       "      <th>3</th>\n",
       "      <td>coins</td>\n",
       "      <td>float64</td>\n",
       "      <td>23</td>\n",
       "      <td>4203</td>\n",
       "    </tr>\n",
       "    <tr>\n",
       "      <th>4</th>\n",
       "      <td>country</td>\n",
       "      <td>object</td>\n",
       "      <td>45</td>\n",
       "      <td>0</td>\n",
       "    </tr>\n",
       "    <tr>\n",
       "      <th>5</th>\n",
       "      <td>visit_days</td>\n",
       "      <td>object</td>\n",
       "      <td>837</td>\n",
       "      <td>1364</td>\n",
       "    </tr>\n",
       "    <tr>\n",
       "      <th>6</th>\n",
       "      <td>gender</td>\n",
       "      <td>int64</td>\n",
       "      <td>2</td>\n",
       "      <td>0</td>\n",
       "    </tr>\n",
       "    <tr>\n",
       "      <th>7</th>\n",
       "      <td>age_filter_start</td>\n",
       "      <td>int64</td>\n",
       "      <td>56</td>\n",
       "      <td>0</td>\n",
       "    </tr>\n",
       "    <tr>\n",
       "      <th>8</th>\n",
       "      <td>age_filter_end</td>\n",
       "      <td>int64</td>\n",
       "      <td>79</td>\n",
       "      <td>0</td>\n",
       "    </tr>\n",
       "    <tr>\n",
       "      <th>9</th>\n",
       "      <td>views_count</td>\n",
       "      <td>int64</td>\n",
       "      <td>328</td>\n",
       "      <td>0</td>\n",
       "    </tr>\n",
       "    <tr>\n",
       "      <th>10</th>\n",
       "      <td>was_premium</td>\n",
       "      <td>float64</td>\n",
       "      <td>1</td>\n",
       "      <td>3853</td>\n",
       "    </tr>\n",
       "    <tr>\n",
       "      <th>11</th>\n",
       "      <td>is_premium</td>\n",
       "      <td>float64</td>\n",
       "      <td>1</td>\n",
       "      <td>4073</td>\n",
       "    </tr>\n",
       "    <tr>\n",
       "      <th>12</th>\n",
       "      <td>total_revenue</td>\n",
       "      <td>int64</td>\n",
       "      <td>128</td>\n",
       "      <td>0</td>\n",
       "    </tr>\n",
       "  </tbody>\n",
       "</table>\n",
       "</div>"
      ],
      "text/plain": [
       "              column Тип данных  Уникальные значения  Пропуски\n",
       "0                uid      int64                 4264         0\n",
       "1                age      int64                   59         0\n",
       "2   attraction_coeff      int64                  585         0\n",
       "3              coins    float64                   23      4203\n",
       "4            country     object                   45         0\n",
       "5         visit_days     object                  837      1364\n",
       "6             gender      int64                    2         0\n",
       "7   age_filter_start      int64                   56         0\n",
       "8     age_filter_end      int64                   79         0\n",
       "9        views_count      int64                  328         0\n",
       "10       was_premium    float64                    1      3853\n",
       "11        is_premium    float64                    1      4073\n",
       "12     total_revenue      int64                  128         0"
      ]
     },
     "execution_count": 8,
     "metadata": {},
     "output_type": "execute_result"
    }
   ],
   "source": [
    "#применяем функцию\n",
    "analysis_first(users_control_2)"
   ]
  },
  {
   "cell_type": "code",
   "execution_count": 9,
   "metadata": {},
   "outputs": [
    {
     "data": {
      "text/html": [
       "<div>\n",
       "<style scoped>\n",
       "    .dataframe tbody tr th:only-of-type {\n",
       "        vertical-align: middle;\n",
       "    }\n",
       "\n",
       "    .dataframe tbody tr th {\n",
       "        vertical-align: top;\n",
       "    }\n",
       "\n",
       "    .dataframe thead th {\n",
       "        text-align: right;\n",
       "    }\n",
       "</style>\n",
       "<table border=\"1\" class=\"dataframe\">\n",
       "  <thead>\n",
       "    <tr style=\"text-align: right;\">\n",
       "      <th></th>\n",
       "      <th>age_test</th>\n",
       "      <th>age_control_1</th>\n",
       "      <th>age_control_2</th>\n",
       "      <th>total_revenue_test</th>\n",
       "      <th>total_revenue_control_1</th>\n",
       "      <th>total_revenue_control_2</th>\n",
       "    </tr>\n",
       "  </thead>\n",
       "  <tbody>\n",
       "    <tr>\n",
       "      <th>count</th>\n",
       "      <td>4308.000000</td>\n",
       "      <td>4340.000000</td>\n",
       "      <td>4264.000000</td>\n",
       "      <td>4308.000000</td>\n",
       "      <td>4340.000000</td>\n",
       "      <td>4264.000000</td>\n",
       "    </tr>\n",
       "    <tr>\n",
       "      <th>mean</th>\n",
       "      <td>31.889276</td>\n",
       "      <td>32.095392</td>\n",
       "      <td>32.046201</td>\n",
       "      <td>534.080316</td>\n",
       "      <td>594.761982</td>\n",
       "      <td>450.384146</td>\n",
       "    </tr>\n",
       "    <tr>\n",
       "      <th>std</th>\n",
       "      <td>10.245287</td>\n",
       "      <td>10.257466</td>\n",
       "      <td>10.170721</td>\n",
       "      <td>4371.682632</td>\n",
       "      <td>7987.922925</td>\n",
       "      <td>2859.242228</td>\n",
       "    </tr>\n",
       "    <tr>\n",
       "      <th>min</th>\n",
       "      <td>16.000000</td>\n",
       "      <td>16.000000</td>\n",
       "      <td>16.000000</td>\n",
       "      <td>0.000000</td>\n",
       "      <td>0.000000</td>\n",
       "      <td>0.000000</td>\n",
       "    </tr>\n",
       "    <tr>\n",
       "      <th>25%</th>\n",
       "      <td>25.000000</td>\n",
       "      <td>24.000000</td>\n",
       "      <td>25.000000</td>\n",
       "      <td>0.000000</td>\n",
       "      <td>0.000000</td>\n",
       "      <td>0.000000</td>\n",
       "    </tr>\n",
       "    <tr>\n",
       "      <th>50%</th>\n",
       "      <td>30.000000</td>\n",
       "      <td>30.000000</td>\n",
       "      <td>30.000000</td>\n",
       "      <td>0.000000</td>\n",
       "      <td>0.000000</td>\n",
       "      <td>0.000000</td>\n",
       "    </tr>\n",
       "    <tr>\n",
       "      <th>75%</th>\n",
       "      <td>38.000000</td>\n",
       "      <td>38.000000</td>\n",
       "      <td>38.000000</td>\n",
       "      <td>0.000000</td>\n",
       "      <td>0.000000</td>\n",
       "      <td>0.000000</td>\n",
       "    </tr>\n",
       "    <tr>\n",
       "      <th>max</th>\n",
       "      <td>99.000000</td>\n",
       "      <td>99.000000</td>\n",
       "      <td>99.000000</td>\n",
       "      <td>129870.000000</td>\n",
       "      <td>486330.000000</td>\n",
       "      <td>81796.000000</td>\n",
       "    </tr>\n",
       "  </tbody>\n",
       "</table>\n",
       "</div>"
      ],
      "text/plain": [
       "          age_test  age_control_1  age_control_2  total_revenue_test  \\\n",
       "count  4308.000000    4340.000000    4264.000000         4308.000000   \n",
       "mean     31.889276      32.095392      32.046201          534.080316   \n",
       "std      10.245287      10.257466      10.170721         4371.682632   \n",
       "min      16.000000      16.000000      16.000000            0.000000   \n",
       "25%      25.000000      24.000000      25.000000            0.000000   \n",
       "50%      30.000000      30.000000      30.000000            0.000000   \n",
       "75%      38.000000      38.000000      38.000000            0.000000   \n",
       "max      99.000000      99.000000      99.000000       129870.000000   \n",
       "\n",
       "       total_revenue_control_1  total_revenue_control_2  \n",
       "count              4340.000000              4264.000000  \n",
       "mean                594.761982               450.384146  \n",
       "std                7987.922925              2859.242228  \n",
       "min                   0.000000                 0.000000  \n",
       "25%                   0.000000                 0.000000  \n",
       "50%                   0.000000                 0.000000  \n",
       "75%                   0.000000                 0.000000  \n",
       "max              486330.000000             81796.000000  "
      ]
     },
     "execution_count": 9,
     "metadata": {},
     "output_type": "execute_result"
    }
   ],
   "source": [
    "#общая описательная статистика тестовой и контрольных таблиц\n",
    "users_test[['age', 'total_revenue', 'views_count']]\\\n",
    ".describe()\\\n",
    ".rename(columns={'age': 'age_test',\n",
    "                 'total_revenue': 'total_revenue_test'})\\\n",
    ".join(users_control_1[['age', 'total_revenue']]\\\n",
    "            .describe()\\\n",
    "            .rename(columns={'age': 'age_control_1',\n",
    "                             'total_revenue': 'total_revenue_control_1'}))\\\n",
    ".join(users_control_2[['age', 'total_revenue']]\\\n",
    "            .describe()\\\n",
    "            .rename(columns={'age': 'age_control_2',\n",
    "                             'total_revenue': 'total_revenue_control_2'}))\\\n",
    "[['age_test', 'age_control_1', 'age_control_2', \n",
    "  'total_revenue_test', 'total_revenue_control_1', 'total_revenue_control_2']]"
   ]
  },
  {
   "cell_type": "markdown",
   "metadata": {},
   "source": [
    "Итак, при первом анализе данных группы users мы видим, что колонки таблицы совпадают, количество строк сильно не различается, дубликаты отсутствуют, имеются пропуски в колонках coins,visit_days, was_premium, is_premium.\n",
    "\n",
    "* Кроме того, мы видим, что возрастной диапазон пользователей растянут от 16 до 99 лет (немного странно, что верхняя граница возраста так высока, скорее всего вводились неверные данные), при этом 50% пользователей младше 30 лет и всего 25% старше 38 лет. \n",
    "* Уникальное количество стран в группах различается(тест - 51, контроль 1 - 40, контроль 2 - 45)\n",
    "* Распределение total_revenue отличается от нормального, максимальные значения сильно разнятся в группах"
   ]
  },
  {
   "cell_type": "markdown",
   "metadata": {},
   "source": [
    "### Объединение и дальнейшая обработка таблицы с пользователями\n",
    "\n",
    "Объединим датасеты из группы users в один датасет. При этом добавим колонку, в которой будет содержаться указание из какой группы были внесены данные (тест, контроль 1 и контроль 2)."
   ]
  },
  {
   "cell_type": "code",
   "execution_count": 10,
   "metadata": {},
   "outputs": [],
   "source": [
    "users_test['group'] = 'test'\n",
    "users_control_1['group'] = 'control_1'\n",
    "users_control_2['group'] = 'control_2'\n",
    "all_users = pd.concat([users_test, users_control_1, users_control_2], ignore_index=True)"
   ]
  },
  {
   "cell_type": "code",
   "execution_count": 11,
   "metadata": {},
   "outputs": [
    {
     "name": "stdout",
     "output_type": "stream",
     "text": [
      "Количество строк в файле: 12912\n",
      "Количество колонок в файле: 14\n",
      "Количество дубликатов: 0\n"
     ]
    },
    {
     "data": {
      "text/html": [
       "<div>\n",
       "<style scoped>\n",
       "    .dataframe tbody tr th:only-of-type {\n",
       "        vertical-align: middle;\n",
       "    }\n",
       "\n",
       "    .dataframe tbody tr th {\n",
       "        vertical-align: top;\n",
       "    }\n",
       "\n",
       "    .dataframe thead th {\n",
       "        text-align: right;\n",
       "    }\n",
       "</style>\n",
       "<table border=\"1\" class=\"dataframe\">\n",
       "  <thead>\n",
       "    <tr style=\"text-align: right;\">\n",
       "      <th></th>\n",
       "      <th>column</th>\n",
       "      <th>Тип данных</th>\n",
       "      <th>Уникальные значения</th>\n",
       "      <th>Пропуски</th>\n",
       "    </tr>\n",
       "  </thead>\n",
       "  <tbody>\n",
       "    <tr>\n",
       "      <th>0</th>\n",
       "      <td>uid</td>\n",
       "      <td>int64</td>\n",
       "      <td>12912</td>\n",
       "      <td>0</td>\n",
       "    </tr>\n",
       "    <tr>\n",
       "      <th>1</th>\n",
       "      <td>age</td>\n",
       "      <td>int64</td>\n",
       "      <td>69</td>\n",
       "      <td>0</td>\n",
       "    </tr>\n",
       "    <tr>\n",
       "      <th>2</th>\n",
       "      <td>attraction_coeff</td>\n",
       "      <td>int64</td>\n",
       "      <td>847</td>\n",
       "      <td>0</td>\n",
       "    </tr>\n",
       "    <tr>\n",
       "      <th>3</th>\n",
       "      <td>coins</td>\n",
       "      <td>float64</td>\n",
       "      <td>50</td>\n",
       "      <td>12742</td>\n",
       "    </tr>\n",
       "    <tr>\n",
       "      <th>4</th>\n",
       "      <td>country</td>\n",
       "      <td>object</td>\n",
       "      <td>72</td>\n",
       "      <td>0</td>\n",
       "    </tr>\n",
       "    <tr>\n",
       "      <th>5</th>\n",
       "      <td>visit_days</td>\n",
       "      <td>object</td>\n",
       "      <td>2132</td>\n",
       "      <td>4018</td>\n",
       "    </tr>\n",
       "    <tr>\n",
       "      <th>6</th>\n",
       "      <td>gender</td>\n",
       "      <td>int64</td>\n",
       "      <td>2</td>\n",
       "      <td>0</td>\n",
       "    </tr>\n",
       "    <tr>\n",
       "      <th>7</th>\n",
       "      <td>age_filter_start</td>\n",
       "      <td>int64</td>\n",
       "      <td>67</td>\n",
       "      <td>0</td>\n",
       "    </tr>\n",
       "    <tr>\n",
       "      <th>8</th>\n",
       "      <td>age_filter_end</td>\n",
       "      <td>int64</td>\n",
       "      <td>81</td>\n",
       "      <td>0</td>\n",
       "    </tr>\n",
       "    <tr>\n",
       "      <th>9</th>\n",
       "      <td>views_count</td>\n",
       "      <td>int64</td>\n",
       "      <td>564</td>\n",
       "      <td>0</td>\n",
       "    </tr>\n",
       "    <tr>\n",
       "      <th>10</th>\n",
       "      <td>was_premium</td>\n",
       "      <td>float64</td>\n",
       "      <td>1</td>\n",
       "      <td>11657</td>\n",
       "    </tr>\n",
       "    <tr>\n",
       "      <th>11</th>\n",
       "      <td>is_premium</td>\n",
       "      <td>float64</td>\n",
       "      <td>1</td>\n",
       "      <td>12372</td>\n",
       "    </tr>\n",
       "    <tr>\n",
       "      <th>12</th>\n",
       "      <td>total_revenue</td>\n",
       "      <td>int64</td>\n",
       "      <td>293</td>\n",
       "      <td>0</td>\n",
       "    </tr>\n",
       "    <tr>\n",
       "      <th>13</th>\n",
       "      <td>group</td>\n",
       "      <td>object</td>\n",
       "      <td>3</td>\n",
       "      <td>0</td>\n",
       "    </tr>\n",
       "  </tbody>\n",
       "</table>\n",
       "</div>"
      ],
      "text/plain": [
       "              column Тип данных  Уникальные значения  Пропуски\n",
       "0                uid      int64                12912         0\n",
       "1                age      int64                   69         0\n",
       "2   attraction_coeff      int64                  847         0\n",
       "3              coins    float64                   50     12742\n",
       "4            country     object                   72         0\n",
       "5         visit_days     object                 2132      4018\n",
       "6             gender      int64                    2         0\n",
       "7   age_filter_start      int64                   67         0\n",
       "8     age_filter_end      int64                   81         0\n",
       "9        views_count      int64                  564         0\n",
       "10       was_premium    float64                    1     11657\n",
       "11        is_premium    float64                    1     12372\n",
       "12     total_revenue      int64                  293         0\n",
       "13             group     object                    3         0"
      ]
     },
     "execution_count": 11,
     "metadata": {},
     "output_type": "execute_result"
    }
   ],
   "source": [
    "#применяем функцию\n",
    "analysis_first(all_users)"
   ]
  },
  {
   "cell_type": "markdown",
   "metadata": {},
   "source": [
    "Поскольку колонка coins, отвечает за число монеток (внутренняя валюта) пользователя, то пропуски можем заменить 0, что будет обозначать, что у пользователя нет монеток. \n",
    "Тоже самое сделаем и с остальными колонками."
   ]
  },
  {
   "cell_type": "code",
   "execution_count": 12,
   "metadata": {},
   "outputs": [],
   "source": [
    "all_users['coins'] = all_users['coins'].fillna(0)\n",
    "all_users['visit_days'] = all_users['visit_days'].fillna(0)"
   ]
  },
  {
   "cell_type": "code",
   "execution_count": 13,
   "metadata": {},
   "outputs": [],
   "source": [
    "all_users['was_premium'] = all_users['was_premium'].fillna(0)\n",
    "all_users['is_premium'] = all_users['is_premium'].fillna(0)"
   ]
  },
  {
   "cell_type": "markdown",
   "metadata": {},
   "source": [
    "В колонке visit_days перечислены через запятую дни, в которые пользователь посещал приложение после регистрации, при этом в таком формате неудобно считать сколько дней в общем пользователь заходил в приложение, поэтому создадим колонку, в которой будет рассчитана данная информация.\n",
    "\n",
    "Для этого необходимо будет перевести тип колонки visit_days из object в str."
   ]
  },
  {
   "cell_type": "code",
   "execution_count": 14,
   "metadata": {},
   "outputs": [],
   "source": [
    "#меняем тип данных\n",
    "all_users = all_users.astype({ 'visit_days': 'str'})\n",
    "#создаем функцию, которая считает кол-во дней посещения поль-ем сайта после рег-ии, и возвращает 0, если такие дни не зафиксированы\n",
    "all_users['days_sum'] = all_users['visit_days'].apply(lambda x: len(x.split(',')) if x != '0' else 0)"
   ]
  },
  {
   "cell_type": "code",
   "execution_count": 15,
   "metadata": {},
   "outputs": [],
   "source": [
    "#также для нашего удобства можем указать, что пол 1 - мужчины, а пол 0 - женщины\n",
    "all_users['gender'] = all_users['gender'].apply(lambda x: 'male' if x == 1 else 'female')"
   ]
  },
  {
   "cell_type": "code",
   "execution_count": 16,
   "metadata": {
    "scrolled": true
   },
   "outputs": [
    {
     "data": {
      "text/html": [
       "<div>\n",
       "<style scoped>\n",
       "    .dataframe tbody tr th:only-of-type {\n",
       "        vertical-align: middle;\n",
       "    }\n",
       "\n",
       "    .dataframe tbody tr th {\n",
       "        vertical-align: top;\n",
       "    }\n",
       "\n",
       "    .dataframe thead th {\n",
       "        text-align: right;\n",
       "    }\n",
       "</style>\n",
       "<table border=\"1\" class=\"dataframe\">\n",
       "  <thead>\n",
       "    <tr style=\"text-align: right;\">\n",
       "      <th></th>\n",
       "      <th>uid</th>\n",
       "      <th>age</th>\n",
       "      <th>attraction_coeff</th>\n",
       "      <th>coins</th>\n",
       "      <th>country</th>\n",
       "      <th>visit_days</th>\n",
       "      <th>gender</th>\n",
       "      <th>age_filter_start</th>\n",
       "      <th>age_filter_end</th>\n",
       "      <th>views_count</th>\n",
       "      <th>was_premium</th>\n",
       "      <th>is_premium</th>\n",
       "      <th>total_revenue</th>\n",
       "      <th>group</th>\n",
       "      <th>days_sum</th>\n",
       "    </tr>\n",
       "  </thead>\n",
       "  <tbody>\n",
       "    <tr>\n",
       "      <th>0</th>\n",
       "      <td>892309896</td>\n",
       "      <td>27</td>\n",
       "      <td>685</td>\n",
       "      <td>0.0</td>\n",
       "      <td>United States of America</td>\n",
       "      <td>1,2,3,4,5,6,7,8,9,10,11,12,16,17</td>\n",
       "      <td>male</td>\n",
       "      <td>24</td>\n",
       "      <td>30</td>\n",
       "      <td>89</td>\n",
       "      <td>0.0</td>\n",
       "      <td>0.0</td>\n",
       "      <td>0</td>\n",
       "      <td>test</td>\n",
       "      <td>14</td>\n",
       "    </tr>\n",
       "    <tr>\n",
       "      <th>1</th>\n",
       "      <td>892044516</td>\n",
       "      <td>27</td>\n",
       "      <td>0</td>\n",
       "      <td>0.0</td>\n",
       "      <td>Germany</td>\n",
       "      <td>0</td>\n",
       "      <td>male</td>\n",
       "      <td>24</td>\n",
       "      <td>30</td>\n",
       "      <td>0</td>\n",
       "      <td>0.0</td>\n",
       "      <td>0.0</td>\n",
       "      <td>0</td>\n",
       "      <td>test</td>\n",
       "      <td>0</td>\n",
       "    </tr>\n",
       "    <tr>\n",
       "      <th>2</th>\n",
       "      <td>892185708</td>\n",
       "      <td>45</td>\n",
       "      <td>44</td>\n",
       "      <td>0.0</td>\n",
       "      <td>Israel</td>\n",
       "      <td>1,3,4,6,7,8,10,11,12,13,14,15,16,17,18,19,20,2...</td>\n",
       "      <td>male</td>\n",
       "      <td>42</td>\n",
       "      <td>48</td>\n",
       "      <td>68</td>\n",
       "      <td>0.0</td>\n",
       "      <td>0.0</td>\n",
       "      <td>0</td>\n",
       "      <td>test</td>\n",
       "      <td>20</td>\n",
       "    </tr>\n",
       "    <tr>\n",
       "      <th>3</th>\n",
       "      <td>892130292</td>\n",
       "      <td>32</td>\n",
       "      <td>0</td>\n",
       "      <td>0.0</td>\n",
       "      <td>United States of America</td>\n",
       "      <td>1,2,3,4,5,6,7,8,9,10,11,12</td>\n",
       "      <td>male</td>\n",
       "      <td>29</td>\n",
       "      <td>35</td>\n",
       "      <td>0</td>\n",
       "      <td>0.0</td>\n",
       "      <td>0.0</td>\n",
       "      <td>0</td>\n",
       "      <td>test</td>\n",
       "      <td>12</td>\n",
       "    </tr>\n",
       "    <tr>\n",
       "      <th>4</th>\n",
       "      <td>891406035</td>\n",
       "      <td>27</td>\n",
       "      <td>1000</td>\n",
       "      <td>0.0</td>\n",
       "      <td>France</td>\n",
       "      <td>0</td>\n",
       "      <td>male</td>\n",
       "      <td>24</td>\n",
       "      <td>30</td>\n",
       "      <td>1</td>\n",
       "      <td>1.0</td>\n",
       "      <td>0.0</td>\n",
       "      <td>0</td>\n",
       "      <td>test</td>\n",
       "      <td>0</td>\n",
       "    </tr>\n",
       "  </tbody>\n",
       "</table>\n",
       "</div>"
      ],
      "text/plain": [
       "         uid  age  attraction_coeff  coins                   country  \\\n",
       "0  892309896   27               685    0.0  United States of America   \n",
       "1  892044516   27                 0    0.0                   Germany   \n",
       "2  892185708   45                44    0.0                    Israel   \n",
       "3  892130292   32                 0    0.0  United States of America   \n",
       "4  891406035   27              1000    0.0                    France   \n",
       "\n",
       "                                          visit_days gender  age_filter_start  \\\n",
       "0                   1,2,3,4,5,6,7,8,9,10,11,12,16,17   male                24   \n",
       "1                                                  0   male                24   \n",
       "2  1,3,4,6,7,8,10,11,12,13,14,15,16,17,18,19,20,2...   male                42   \n",
       "3                         1,2,3,4,5,6,7,8,9,10,11,12   male                29   \n",
       "4                                                  0   male                24   \n",
       "\n",
       "   age_filter_end  views_count  was_premium  is_premium  total_revenue group  \\\n",
       "0              30           89          0.0         0.0              0  test   \n",
       "1              30            0          0.0         0.0              0  test   \n",
       "2              48           68          0.0         0.0              0  test   \n",
       "3              35            0          0.0         0.0              0  test   \n",
       "4              30            1          1.0         0.0              0  test   \n",
       "\n",
       "   days_sum  \n",
       "0        14  \n",
       "1         0  \n",
       "2        20  \n",
       "3        12  \n",
       "4         0  "
      ]
     },
     "execution_count": 16,
     "metadata": {},
     "output_type": "execute_result"
    }
   ],
   "source": [
    "#смотрим на объединенный датафрейм\n",
    "all_users.head()"
   ]
  },
  {
   "cell_type": "code",
   "execution_count": 17,
   "metadata": {
    "scrolled": true
   },
   "outputs": [
    {
     "data": {
      "image/png": "[encoded data removed]",
      "text/plain": [
       "<Figure size 720x216 with 1 Axes>"
      ]
     },
     "metadata": {},
     "output_type": "display_data"
    }
   ],
   "source": [
    "#смотрим на распределение пользователей по группам и полу\n",
    "sns.set(rc={'figure.figsize': (10, 3)})\n",
    "gender_users = all_users.groupby(['group','gender'], as_index = False) \\\n",
    "                         .agg({'uid':'count'})\n",
    "sns.barplot(data=gender_users, x= \"gender\", y= 'uid', hue = 'group')\n",
    "plt.show()"
   ]
  },
  {
   "cell_type": "code",
   "execution_count": 18,
   "metadata": {},
   "outputs": [
    {
     "data": {
      "image/png": "[encoded data removed]",
      "text/plain": [
       "<Figure size 864x432 with 1 Axes>"
      ]
     },
     "metadata": {},
     "output_type": "display_data"
    }
   ],
   "source": [
    "#смотрим на распределение возраста по группам и полу\n",
    "sns.set(rc={'figure.figsize': (12, 6)})\n",
    "sns.boxplot(data=all_users, x=\"gender\", y=\"age\", hue = 'group')\n",
    "plt.show()"
   ]
  },
  {
   "cell_type": "markdown",
   "metadata": {},
   "source": [
    "   Как мы выдим количество мужчин значительно превышает по своей численности количество женщин на сайте, и их средний  возраст  выше. \n",
    "   Также в данных наблюдаются выбросы, которые могут быть связаны, в частности, с неверным указанием возраста, при этом, в целом, в распределении пользователей по группам в зависимости от их пола и возраста сильных расхождений не наблюдается."
   ]
  },
  {
   "cell_type": "code",
   "execution_count": 19,
   "metadata": {
    "scrolled": true
   },
   "outputs": [
    {
     "data": {
      "image/png": "[encoded data removed]",
      "text/plain": [
       "<Figure size 792x288 with 1 Axes>"
      ]
     },
     "metadata": {},
     "output_type": "display_data"
    }
   ],
   "source": [
    "#посмотрим на распределение посещений пользователями приложения\n",
    "days_view = all_users.groupby(['group','days_sum'], as_index = False).agg({'uid':'count'})\n",
    "sns.set(rc={'figure.figsize': (11, 4)})\n",
    "sns.lineplot(data=days_view, x=\"days_sum\", y=\"uid\", hue=\"group\") \\\n",
    "   .set_title(\"Распределение посещений приложения в тестовой и контрольных группах\")\n",
    "plt.show()"
   ]
  },
  {
   "cell_type": "markdown",
   "metadata": {},
   "source": [
    "Мы наблюдаем одинаковую тенденцию во всех группах относительно уменьшения количества дней посещения приложения с момента регистрации, при этом большинство пользователей используют приложение только в день регистрации и в течение первых 5 дней."
   ]
  },
  {
   "cell_type": "code",
   "execution_count": 20,
   "metadata": {
    "scrolled": false
   },
   "outputs": [
    {
     "name": "stdout",
     "output_type": "stream",
     "text": [
      "       group  was_premium  uid\n",
      "2       test          1.0  408\n",
      "1  control_2          1.0  411\n",
      "0  control_1          1.0  436\n"
     ]
    }
   ],
   "source": [
    "#количество пользователей, которые обладали премиум-подпиской\n",
    "print(all_users.query('was_premium == \"1.0\"').groupby(['group','was_premium'], as_index = False).agg({'uid':'count'}).sort_values('uid'))"
   ]
  },
  {
   "cell_type": "code",
   "execution_count": 21,
   "metadata": {},
   "outputs": [
    {
     "name": "stdout",
     "output_type": "stream",
     "text": [
      "       group  is_premium  uid\n",
      "2       test         1.0  157\n",
      "1  control_2         1.0  191\n",
      "0  control_1         1.0  192\n"
     ]
    }
   ],
   "source": [
    "#количество пользователей, которые сейчас обладают статусом премиум\n",
    "print(all_users.query('is_premium == \"1.0\"').groupby(['group','is_premium'], as_index = False).agg({'uid':'count'}).sort_values('uid'))"
   ]
  },
  {
   "cell_type": "markdown",
   "metadata": {},
   "source": [
    "Как мы видим всего лишь 540 пользователей обладают премиум-подпиской, а 1255 ранее имели подписку, но перестали пользоваться этой услугой.\n",
    "При этом в тестовой группе наблюдается снижение числа пользователей, которые имеют премиум-подписку.\n"
   ]
  },
  {
   "cell_type": "code",
   "execution_count": 22,
   "metadata": {
    "scrolled": true
   },
   "outputs": [
    {
     "data": {
      "text/html": [
       "<div>\n",
       "<style scoped>\n",
       "    .dataframe tbody tr th:only-of-type {\n",
       "        vertical-align: middle;\n",
       "    }\n",
       "\n",
       "    .dataframe tbody tr th {\n",
       "        vertical-align: top;\n",
       "    }\n",
       "\n",
       "    .dataframe thead th {\n",
       "        text-align: right;\n",
       "    }\n",
       "</style>\n",
       "<table border=\"1\" class=\"dataframe\">\n",
       "  <thead>\n",
       "    <tr style=\"text-align: right;\">\n",
       "      <th>group</th>\n",
       "      <th>control_1</th>\n",
       "      <th>control_2</th>\n",
       "      <th>test</th>\n",
       "    </tr>\n",
       "    <tr>\n",
       "      <th>country</th>\n",
       "      <th></th>\n",
       "      <th></th>\n",
       "      <th></th>\n",
       "    </tr>\n",
       "  </thead>\n",
       "  <tbody>\n",
       "    <tr>\n",
       "      <th>Algeria</th>\n",
       "      <td>2.0</td>\n",
       "      <td>NaN</td>\n",
       "      <td>2.0</td>\n",
       "    </tr>\n",
       "    <tr>\n",
       "      <th>Argentina</th>\n",
       "      <td>389.0</td>\n",
       "      <td>397.0</td>\n",
       "      <td>396.0</td>\n",
       "    </tr>\n",
       "    <tr>\n",
       "      <th>Armenia</th>\n",
       "      <td>1.0</td>\n",
       "      <td>NaN</td>\n",
       "      <td>NaN</td>\n",
       "    </tr>\n",
       "    <tr>\n",
       "      <th>Australia</th>\n",
       "      <td>50.0</td>\n",
       "      <td>51.0</td>\n",
       "      <td>62.0</td>\n",
       "    </tr>\n",
       "    <tr>\n",
       "      <th>Austria</th>\n",
       "      <td>NaN</td>\n",
       "      <td>2.0</td>\n",
       "      <td>NaN</td>\n",
       "    </tr>\n",
       "  </tbody>\n",
       "</table>\n",
       "</div>"
      ],
      "text/plain": [
       "group      control_1  control_2   test\n",
       "country                               \n",
       "Algeria          2.0        NaN    2.0\n",
       "Argentina      389.0      397.0  396.0\n",
       "Armenia          1.0        NaN    NaN\n",
       "Australia       50.0       51.0   62.0\n",
       "Austria          NaN        2.0    NaN"
      ]
     },
     "execution_count": 22,
     "metadata": {},
     "output_type": "execute_result"
    }
   ],
   "source": [
    "#смотрим на разбивку пользователей по странам\n",
    "all_users.groupby([ 'group','country'], as_index = False) \\\n",
    "          .agg({'uid':'count'}) \\\n",
    "          .pivot(index='country', columns='group', values='uid') \\\n",
    "          .head(5)\n"
   ]
  },
  {
   "cell_type": "markdown",
   "metadata": {},
   "source": [
    "Из приведенной выше таблицы видно, что представители не всех стран вошли во все три группы, в связи с чем образовались пропуски в данных."
   ]
  },
  {
   "cell_type": "code",
   "execution_count": 23,
   "metadata": {
    "scrolled": true
   },
   "outputs": [
    {
     "data": {
      "image/png": "[encoded data removed]",
      "text/plain": [
       "<Figure size 1440x720 with 1 Axes>"
      ]
     },
     "metadata": {},
     "output_type": "display_data"
    }
   ],
   "source": [
    "#построим график распределения пользователей групп по странам, установив планку ни менее 50 человек\n",
    "users_by_country = all_users.groupby(['country', 'group'], as_index=False).agg({'uid': 'count'})\n",
    "sns.set(rc={'figure.figsize': (20, 10)})\n",
    "sns.barplot(data=users_by_country.query('uid >= 50'), x=\"country\", y='uid', hue=\"group\")\\\n",
    "    .set_title(\"Распределение пользователей на группы по странам\")\n",
    "plt.xticks(rotation=90)\n",
    "plt.show()"
   ]
  },
  {
   "cell_type": "markdown",
   "metadata": {},
   "source": [
    "При этом при рассмотрении распределения пользователей по странам по численности равным или более 50 человек мы наблюдаем относительно равнозначное распределение по группам. Значительная часть пользователей приложения приходится на США."
   ]
  },
  {
   "cell_type": "markdown",
   "metadata": {},
   "source": [
    "По условию задания следует, что изменение цены подписки произошло лишь в некоторых странах.  В связи с этим для дальнейшего исследования сделаем так, чтобы в датасете остались лишь страны, которые присутствуют в тестовой выборке, ведь в них и произошли изменения"
   ]
  },
  {
   "cell_type": "code",
   "execution_count": 24,
   "metadata": {},
   "outputs": [],
   "source": [
    "#отбираем страны, имеющиеся во всех группах\n",
    "country_test = all_users.query('group == \"test\"').groupby('country',as_index=False).agg({'uid':'count'})\n",
    "country_control_1 = all_users.query('group == \"control_1\"').groupby('country',as_index=False).agg({'uid':'count'})\n",
    "country_control_2 = all_users.query('group == \"control_2\"').groupby('country',as_index=False).agg({'uid':'count'})\n",
    "countries = country_test.merge(country_control_2, on='country').merge(country_control_1, on='country')\n",
    "countries = countries[['country']]"
   ]
  },
  {
   "cell_type": "code",
   "execution_count": 25,
   "metadata": {},
   "outputs": [],
   "source": [
    "users_final = countries.merge(all_users, on='country')"
   ]
  },
  {
   "cell_type": "code",
   "execution_count": 26,
   "metadata": {
    "scrolled": true
   },
   "outputs": [
    {
     "data": {
      "text/plain": [
       "control_1    4319\n",
       "test         4271\n",
       "control_2    4238\n",
       "Name: group, dtype: int64"
      ]
     },
     "execution_count": 26,
     "metadata": {},
     "output_type": "execute_result"
    }
   ],
   "source": [
    "#посмотрим насколько сократились группы\n",
    "users_final.group.value_counts()\n",
    "#наблюдается незначительное сокрашение численности групп "
   ]
  },
  {
   "cell_type": "markdown",
   "metadata": {},
   "source": [
    "Также рассмотрим распределение нормированной выручки(total_revenue) в обработанной таблице."
   ]
  },
  {
   "cell_type": "code",
   "execution_count": 27,
   "metadata": {},
   "outputs": [
    {
     "data": {
      "text/plain": [
       "count     12828.000000\n",
       "mean        527.555971\n",
       "std        5539.912796\n",
       "min           0.000000\n",
       "25%           0.000000\n",
       "50%           0.000000\n",
       "75%           0.000000\n",
       "max      486330.000000\n",
       "Name: total_revenue, dtype: float64"
      ]
     },
     "execution_count": 27,
     "metadata": {},
     "output_type": "execute_result"
    }
   ],
   "source": [
    "users_final['total_revenue'].describe()"
   ]
  },
  {
   "cell_type": "markdown",
   "metadata": {},
   "source": [
    "Распределение выручки очень перекошено, стандартное отклонение большое - что говорит о ненормальности распределения значения нормированной выручки, много нулевых значений."
   ]
  },
  {
   "cell_type": "code",
   "execution_count": 28,
   "metadata": {},
   "outputs": [
    {
     "data": {
      "image/png": "[encoded data removed]",
      "text/plain": [
       "<Figure size 1440x720 with 1 Axes>"
      ]
     },
     "metadata": {},
     "output_type": "display_data"
    }
   ],
   "source": [
    "#распределение выручки в зависимости от групп\n",
    "sns.boxplot(data=users_final[users_final.total_revenue != 0], x='total_revenue', y='group')\n",
    "plt.title('Выручка в зависимости от групп')\n",
    "plt.xlabel('Выручка')\n",
    "plt.ylabel('Группа')\n",
    "plt.show()"
   ]
  },
  {
   "cell_type": "markdown",
   "metadata": {},
   "source": [
    "В группе контроль_1 наблюдается значительный выброс, который не позволяет нам получше посмотреть на данные, поэтому посмотрим на распределение без него"
   ]
  },
  {
   "cell_type": "code",
   "execution_count": 29,
   "metadata": {},
   "outputs": [
    {
     "data": {
      "image/png": "[encoded data removed]",
      "text/plain": [
       "<Figure size 1440x720 with 1 Axes>"
      ]
     },
     "metadata": {},
     "output_type": "display_data"
    }
   ],
   "source": [
    "#распределение выручки в зависимости от групп\n",
    "df = users_final.query('total_revenue < 200000')\n",
    "sns.boxplot(data=df[df.total_revenue != 0], x='total_revenue', y='group')\n",
    "plt.title('Выручка в зависимости от групп')\n",
    "plt.xlabel('Выручка')\n",
    "plt.ylabel('Группа')\n",
    "plt.show()"
   ]
  },
  {
   "cell_type": "markdown",
   "metadata": {},
   "source": [
    "На данном графике мы видим, что значения выручки заметно различается в группах. Так, в тестовой группе выручка имеет больший межквартильный размах, среднее значение заметно больше, чем у контрольных групп. Кроме того, имеются значительные выборосы во всех трех группах, насмотря на это, мы не будем их убирать, поскольку это может привести к потери данных о премиум клиентах."
   ]
  },
  {
   "cell_type": "markdown",
   "metadata": {},
   "source": [
    " ### 1. Таблицы transactions"
   ]
  },
  {
   "cell_type": "code",
   "execution_count": 30,
   "metadata": {
    "scrolled": true
   },
   "outputs": [
    {
     "name": "stdout",
     "output_type": "stream",
     "text": [
      "Общее число строк и колонок в датасетах группы transactions:  тест: (273, 8) , контроль 1: (1007, 8) , контроль 2: (328, 8)\n"
     ]
    }
   ],
   "source": [
    "#посмотрим на общий размер таблиц transactions\n",
    "print(f'Общее число строк и колонок в датасетах группы transactions:  тест:',transactions_test.shape, ', контроль 1:',\n",
    "      trans_control_1.shape, ', контроль 2:', trans_control_2.shape)"
   ]
  },
  {
   "cell_type": "markdown",
   "metadata": {},
   "source": [
    "Таблица transactions_test"
   ]
  },
  {
   "cell_type": "code",
   "execution_count": 31,
   "metadata": {},
   "outputs": [
    {
     "name": "stdout",
     "output_type": "stream",
     "text": [
      "Количество строк в файле: 273\n",
      "Количество колонок в файле: 8\n",
      "Количество дубликатов: 7\n"
     ]
    },
    {
     "data": {
      "text/html": [
       "<div>\n",
       "<style scoped>\n",
       "    .dataframe tbody tr th:only-of-type {\n",
       "        vertical-align: middle;\n",
       "    }\n",
       "\n",
       "    .dataframe tbody tr th {\n",
       "        vertical-align: top;\n",
       "    }\n",
       "\n",
       "    .dataframe thead th {\n",
       "        text-align: right;\n",
       "    }\n",
       "</style>\n",
       "<table border=\"1\" class=\"dataframe\">\n",
       "  <thead>\n",
       "    <tr style=\"text-align: right;\">\n",
       "      <th></th>\n",
       "      <th>column</th>\n",
       "      <th>Тип данных</th>\n",
       "      <th>Уникальные значения</th>\n",
       "      <th>Пропуски</th>\n",
       "    </tr>\n",
       "  </thead>\n",
       "  <tbody>\n",
       "    <tr>\n",
       "      <th>0</th>\n",
       "      <td>uid</td>\n",
       "      <td>int64</td>\n",
       "      <td>146</td>\n",
       "      <td>0</td>\n",
       "    </tr>\n",
       "    <tr>\n",
       "      <th>1</th>\n",
       "      <td>country</td>\n",
       "      <td>object</td>\n",
       "      <td>17</td>\n",
       "      <td>0</td>\n",
       "    </tr>\n",
       "    <tr>\n",
       "      <th>2</th>\n",
       "      <td>joined_at</td>\n",
       "      <td>datetime64[ns]</td>\n",
       "      <td>146</td>\n",
       "      <td>0</td>\n",
       "    </tr>\n",
       "    <tr>\n",
       "      <th>3</th>\n",
       "      <td>paid_at</td>\n",
       "      <td>datetime64[ns]</td>\n",
       "      <td>258</td>\n",
       "      <td>0</td>\n",
       "    </tr>\n",
       "    <tr>\n",
       "      <th>4</th>\n",
       "      <td>revenue</td>\n",
       "      <td>int64</td>\n",
       "      <td>125</td>\n",
       "      <td>0</td>\n",
       "    </tr>\n",
       "    <tr>\n",
       "      <th>5</th>\n",
       "      <td>payment_id</td>\n",
       "      <td>int64</td>\n",
       "      <td>6</td>\n",
       "      <td>0</td>\n",
       "    </tr>\n",
       "    <tr>\n",
       "      <th>6</th>\n",
       "      <td>from_page</td>\n",
       "      <td>object</td>\n",
       "      <td>22</td>\n",
       "      <td>0</td>\n",
       "    </tr>\n",
       "    <tr>\n",
       "      <th>7</th>\n",
       "      <td>product_type</td>\n",
       "      <td>object</td>\n",
       "      <td>4</td>\n",
       "      <td>0</td>\n",
       "    </tr>\n",
       "  </tbody>\n",
       "</table>\n",
       "</div>"
      ],
      "text/plain": [
       "         column      Тип данных  Уникальные значения  Пропуски\n",
       "0           uid           int64                  146         0\n",
       "1       country          object                   17         0\n",
       "2     joined_at  datetime64[ns]                  146         0\n",
       "3       paid_at  datetime64[ns]                  258         0\n",
       "4       revenue           int64                  125         0\n",
       "5    payment_id           int64                    6         0\n",
       "6     from_page          object                   22         0\n",
       "7  product_type          object                    4         0"
      ]
     },
     "execution_count": 31,
     "metadata": {},
     "output_type": "execute_result"
    }
   ],
   "source": [
    "#применяем функцию\n",
    "analysis_first(transactions_test)"
   ]
  },
  {
   "cell_type": "code",
   "execution_count": 32,
   "metadata": {},
   "outputs": [],
   "source": [
    "#удаляем дубликаты\n",
    "transactions_test = transactions_test.drop_duplicates()"
   ]
  },
  {
   "cell_type": "markdown",
   "metadata": {},
   "source": [
    "Таблица transactions_test_1"
   ]
  },
  {
   "cell_type": "code",
   "execution_count": 33,
   "metadata": {},
   "outputs": [
    {
     "name": "stdout",
     "output_type": "stream",
     "text": [
      "Количество строк в файле: 1007\n",
      "Количество колонок в файле: 8\n",
      "Количество дубликатов: 650\n"
     ]
    },
    {
     "data": {
      "text/html": [
       "<div>\n",
       "<style scoped>\n",
       "    .dataframe tbody tr th:only-of-type {\n",
       "        vertical-align: middle;\n",
       "    }\n",
       "\n",
       "    .dataframe tbody tr th {\n",
       "        vertical-align: top;\n",
       "    }\n",
       "\n",
       "    .dataframe thead th {\n",
       "        text-align: right;\n",
       "    }\n",
       "</style>\n",
       "<table border=\"1\" class=\"dataframe\">\n",
       "  <thead>\n",
       "    <tr style=\"text-align: right;\">\n",
       "      <th></th>\n",
       "      <th>column</th>\n",
       "      <th>Тип данных</th>\n",
       "      <th>Уникальные значения</th>\n",
       "      <th>Пропуски</th>\n",
       "    </tr>\n",
       "  </thead>\n",
       "  <tbody>\n",
       "    <tr>\n",
       "      <th>0</th>\n",
       "      <td>uid</td>\n",
       "      <td>float64</td>\n",
       "      <td>193</td>\n",
       "      <td>630</td>\n",
       "    </tr>\n",
       "    <tr>\n",
       "      <th>1</th>\n",
       "      <td>country</td>\n",
       "      <td>object</td>\n",
       "      <td>18</td>\n",
       "      <td>630</td>\n",
       "    </tr>\n",
       "    <tr>\n",
       "      <th>2</th>\n",
       "      <td>joined_at</td>\n",
       "      <td>datetime64[ns]</td>\n",
       "      <td>193</td>\n",
       "      <td>630</td>\n",
       "    </tr>\n",
       "    <tr>\n",
       "      <th>3</th>\n",
       "      <td>paid_at</td>\n",
       "      <td>datetime64[ns]</td>\n",
       "      <td>335</td>\n",
       "      <td>630</td>\n",
       "    </tr>\n",
       "    <tr>\n",
       "      <th>4</th>\n",
       "      <td>revenue</td>\n",
       "      <td>float64</td>\n",
       "      <td>127</td>\n",
       "      <td>630</td>\n",
       "    </tr>\n",
       "    <tr>\n",
       "      <th>5</th>\n",
       "      <td>payment_id</td>\n",
       "      <td>float64</td>\n",
       "      <td>7</td>\n",
       "      <td>630</td>\n",
       "    </tr>\n",
       "    <tr>\n",
       "      <th>6</th>\n",
       "      <td>from_page</td>\n",
       "      <td>object</td>\n",
       "      <td>25</td>\n",
       "      <td>630</td>\n",
       "    </tr>\n",
       "    <tr>\n",
       "      <th>7</th>\n",
       "      <td>product_type</td>\n",
       "      <td>object</td>\n",
       "      <td>4</td>\n",
       "      <td>630</td>\n",
       "    </tr>\n",
       "  </tbody>\n",
       "</table>\n",
       "</div>"
      ],
      "text/plain": [
       "         column      Тип данных  Уникальные значения  Пропуски\n",
       "0           uid         float64                  193       630\n",
       "1       country          object                   18       630\n",
       "2     joined_at  datetime64[ns]                  193       630\n",
       "3       paid_at  datetime64[ns]                  335       630\n",
       "4       revenue         float64                  127       630\n",
       "5    payment_id         float64                    7       630\n",
       "6     from_page          object                   25       630\n",
       "7  product_type          object                    4       630"
      ]
     },
     "execution_count": 33,
     "metadata": {},
     "output_type": "execute_result"
    }
   ],
   "source": [
    "#применяем функцию\n",
    "analysis_first(trans_control_1)"
   ]
  },
  {
   "cell_type": "code",
   "execution_count": 34,
   "metadata": {},
   "outputs": [],
   "source": [
    "#удаляем дубликаты и удаляем остальные пропуски\n",
    "trans_control_1 = trans_control_1.drop_duplicates()\n",
    "trans_control_1.dropna(axis=0, inplace=True)"
   ]
  },
  {
   "cell_type": "markdown",
   "metadata": {},
   "source": [
    "Таблица transactions_control_2"
   ]
  },
  {
   "cell_type": "code",
   "execution_count": 35,
   "metadata": {},
   "outputs": [
    {
     "name": "stdout",
     "output_type": "stream",
     "text": [
      "Количество строк в файле: 328\n",
      "Количество колонок в файле: 8\n",
      "Количество дубликатов: 5\n"
     ]
    },
    {
     "data": {
      "text/html": [
       "<div>\n",
       "<style scoped>\n",
       "    .dataframe tbody tr th:only-of-type {\n",
       "        vertical-align: middle;\n",
       "    }\n",
       "\n",
       "    .dataframe tbody tr th {\n",
       "        vertical-align: top;\n",
       "    }\n",
       "\n",
       "    .dataframe thead th {\n",
       "        text-align: right;\n",
       "    }\n",
       "</style>\n",
       "<table border=\"1\" class=\"dataframe\">\n",
       "  <thead>\n",
       "    <tr style=\"text-align: right;\">\n",
       "      <th></th>\n",
       "      <th>column</th>\n",
       "      <th>Тип данных</th>\n",
       "      <th>Уникальные значения</th>\n",
       "      <th>Пропуски</th>\n",
       "    </tr>\n",
       "  </thead>\n",
       "  <tbody>\n",
       "    <tr>\n",
       "      <th>0</th>\n",
       "      <td>uid</td>\n",
       "      <td>int64</td>\n",
       "      <td>187</td>\n",
       "      <td>0</td>\n",
       "    </tr>\n",
       "    <tr>\n",
       "      <th>1</th>\n",
       "      <td>country</td>\n",
       "      <td>object</td>\n",
       "      <td>19</td>\n",
       "      <td>0</td>\n",
       "    </tr>\n",
       "    <tr>\n",
       "      <th>2</th>\n",
       "      <td>joined_at</td>\n",
       "      <td>datetime64[ns]</td>\n",
       "      <td>187</td>\n",
       "      <td>0</td>\n",
       "    </tr>\n",
       "    <tr>\n",
       "      <th>3</th>\n",
       "      <td>paid_at</td>\n",
       "      <td>datetime64[ns]</td>\n",
       "      <td>309</td>\n",
       "      <td>0</td>\n",
       "    </tr>\n",
       "    <tr>\n",
       "      <th>4</th>\n",
       "      <td>revenue</td>\n",
       "      <td>int64</td>\n",
       "      <td>123</td>\n",
       "      <td>0</td>\n",
       "    </tr>\n",
       "    <tr>\n",
       "      <th>5</th>\n",
       "      <td>payment_id</td>\n",
       "      <td>int64</td>\n",
       "      <td>6</td>\n",
       "      <td>0</td>\n",
       "    </tr>\n",
       "    <tr>\n",
       "      <th>6</th>\n",
       "      <td>from_page</td>\n",
       "      <td>object</td>\n",
       "      <td>18</td>\n",
       "      <td>0</td>\n",
       "    </tr>\n",
       "    <tr>\n",
       "      <th>7</th>\n",
       "      <td>product_type</td>\n",
       "      <td>object</td>\n",
       "      <td>4</td>\n",
       "      <td>0</td>\n",
       "    </tr>\n",
       "  </tbody>\n",
       "</table>\n",
       "</div>"
      ],
      "text/plain": [
       "         column      Тип данных  Уникальные значения  Пропуски\n",
       "0           uid           int64                  187         0\n",
       "1       country          object                   19         0\n",
       "2     joined_at  datetime64[ns]                  187         0\n",
       "3       paid_at  datetime64[ns]                  309         0\n",
       "4       revenue           int64                  123         0\n",
       "5    payment_id           int64                    6         0\n",
       "6     from_page          object                   18         0\n",
       "7  product_type          object                    4         0"
      ]
     },
     "execution_count": 35,
     "metadata": {},
     "output_type": "execute_result"
    }
   ],
   "source": [
    "#применяем функцию\n",
    "analysis_first(trans_control_2)"
   ]
  },
  {
   "cell_type": "code",
   "execution_count": 36,
   "metadata": {},
   "outputs": [],
   "source": [
    "#удаляем дубликаты\n",
    "trans_control_2 = trans_control_2.drop_duplicates()"
   ]
  },
  {
   "cell_type": "code",
   "execution_count": 37,
   "metadata": {},
   "outputs": [
    {
     "data": {
      "text/html": [
       "<div>\n",
       "<style scoped>\n",
       "    .dataframe tbody tr th:only-of-type {\n",
       "        vertical-align: middle;\n",
       "    }\n",
       "\n",
       "    .dataframe tbody tr th {\n",
       "        vertical-align: top;\n",
       "    }\n",
       "\n",
       "    .dataframe thead th {\n",
       "        text-align: right;\n",
       "    }\n",
       "</style>\n",
       "<table border=\"1\" class=\"dataframe\">\n",
       "  <thead>\n",
       "    <tr style=\"text-align: right;\">\n",
       "      <th></th>\n",
       "      <th>revenue_test</th>\n",
       "      <th>revenue_control_1</th>\n",
       "      <th>revenue_control_2</th>\n",
       "    </tr>\n",
       "  </thead>\n",
       "  <tbody>\n",
       "    <tr>\n",
       "      <th>count</th>\n",
       "      <td>266.000000</td>\n",
       "      <td>356.000000</td>\n",
       "      <td>323.000000</td>\n",
       "    </tr>\n",
       "    <tr>\n",
       "      <th>mean</th>\n",
       "      <td>8767.766917</td>\n",
       "      <td>7007.876404</td>\n",
       "      <td>5907.111455</td>\n",
       "    </tr>\n",
       "    <tr>\n",
       "      <th>std</th>\n",
       "      <td>11216.235341</td>\n",
       "      <td>7985.995094</td>\n",
       "      <td>6615.180325</td>\n",
       "    </tr>\n",
       "    <tr>\n",
       "      <th>min</th>\n",
       "      <td>533.000000</td>\n",
       "      <td>26.000000</td>\n",
       "      <td>481.000000</td>\n",
       "    </tr>\n",
       "    <tr>\n",
       "      <th>25%</th>\n",
       "      <td>3129.750000</td>\n",
       "      <td>2804.750000</td>\n",
       "      <td>2340.000000</td>\n",
       "    </tr>\n",
       "    <tr>\n",
       "      <th>50%</th>\n",
       "      <td>6363.500000</td>\n",
       "      <td>6292.000000</td>\n",
       "      <td>4719.000000</td>\n",
       "    </tr>\n",
       "    <tr>\n",
       "      <th>75%</th>\n",
       "      <td>12597.000000</td>\n",
       "      <td>7312.500000</td>\n",
       "      <td>6350.500000</td>\n",
       "    </tr>\n",
       "    <tr>\n",
       "      <th>max</th>\n",
       "      <td>113477.000000</td>\n",
       "      <td>63037.000000</td>\n",
       "      <td>81796.000000</td>\n",
       "    </tr>\n",
       "  </tbody>\n",
       "</table>\n",
       "</div>"
      ],
      "text/plain": [
       "        revenue_test  revenue_control_1  revenue_control_2\n",
       "count     266.000000         356.000000         323.000000\n",
       "mean     8767.766917        7007.876404        5907.111455\n",
       "std     11216.235341        7985.995094        6615.180325\n",
       "min       533.000000          26.000000         481.000000\n",
       "25%      3129.750000        2804.750000        2340.000000\n",
       "50%      6363.500000        6292.000000        4719.000000\n",
       "75%     12597.000000        7312.500000        6350.500000\n",
       "max    113477.000000       63037.000000       81796.000000"
      ]
     },
     "execution_count": 37,
     "metadata": {},
     "output_type": "execute_result"
    }
   ],
   "source": [
    "#Смотрим на распределение прибыли(revenue) в тестовой и контрольных группах\n",
    "transactions_test[['revenue']]\\\n",
    ".describe()\\\n",
    ".rename(columns={'revenue': 'revenue_test'})\\\n",
    ".join(trans_control_1[['revenue']]\\\n",
    "            .describe()\\\n",
    "            .rename(columns={'revenue': 'revenue_control_1'}))\\\n",
    ".join(trans_control_2[['revenue']]\\\n",
    "            .describe()\\\n",
    "            .rename(columns={'revenue': 'revenue_control_2'}))\\\n",
    "[['revenue_test', 'revenue_control_1', 'revenue_control_2']]"
   ]
  },
  {
   "cell_type": "markdown",
   "metadata": {},
   "source": [
    "При первом анализе данных группы transactions мы видим, что колонки таблицы совпадают, вместе с тем имеются существенные различия в количестве строк, связанные, в том числе, с большим количеством дубликатов в таблице trans_control_1. \n",
    "\n",
    "Также в группах наблюдаются различия в распределении revenue.\n"
   ]
  },
  {
   "cell_type": "markdown",
   "metadata": {},
   "source": [
    "### Объединение и дальнейшая обработка таблицы с платежами пользователей\n",
    "\n",
    "Объединем датасеты из группы transactions в один датасет. При этом добавим колонку, в которой будет содержаться указание из какой группы были внесены данные (тест, контроль 1 и контроль 2)."
   ]
  },
  {
   "cell_type": "code",
   "execution_count": 38,
   "metadata": {},
   "outputs": [],
   "source": [
    "transactions_test['group'] = 'test'\n",
    "trans_control_1['group'] = 'control_1'\n",
    "trans_control_2['group'] = 'control_2'\n",
    "all_transactions = pd.concat([transactions_test, trans_control_1, trans_control_2], ignore_index=True)"
   ]
  },
  {
   "cell_type": "code",
   "execution_count": 39,
   "metadata": {},
   "outputs": [
    {
     "data": {
      "text/html": [
       "<div>\n",
       "<style scoped>\n",
       "    .dataframe tbody tr th:only-of-type {\n",
       "        vertical-align: middle;\n",
       "    }\n",
       "\n",
       "    .dataframe tbody tr th {\n",
       "        vertical-align: top;\n",
       "    }\n",
       "\n",
       "    .dataframe thead th {\n",
       "        text-align: right;\n",
       "    }\n",
       "</style>\n",
       "<table border=\"1\" class=\"dataframe\">\n",
       "  <thead>\n",
       "    <tr style=\"text-align: right;\">\n",
       "      <th></th>\n",
       "      <th>uid</th>\n",
       "      <th>country</th>\n",
       "      <th>joined_at</th>\n",
       "      <th>paid_at</th>\n",
       "      <th>revenue</th>\n",
       "      <th>payment_id</th>\n",
       "      <th>from_page</th>\n",
       "      <th>product_type</th>\n",
       "      <th>group</th>\n",
       "    </tr>\n",
       "  </thead>\n",
       "  <tbody>\n",
       "    <tr>\n",
       "      <th>0</th>\n",
       "      <td>891345942.0</td>\n",
       "      <td>Italy</td>\n",
       "      <td>2017-05-11 13:00:00</td>\n",
       "      <td>2017-11-13 15:04:00</td>\n",
       "      <td>12909.0</td>\n",
       "      <td>147.0</td>\n",
       "      <td>trial_vip_popup</td>\n",
       "      <td>trial_premium</td>\n",
       "      <td>test</td>\n",
       "    </tr>\n",
       "    <tr>\n",
       "      <th>1</th>\n",
       "      <td>892054251.0</td>\n",
       "      <td>United States of America</td>\n",
       "      <td>2017-10-22 00:33:00</td>\n",
       "      <td>2017-10-30 01:37:00</td>\n",
       "      <td>13923.0</td>\n",
       "      <td>147.0</td>\n",
       "      <td>trial_vip_popup</td>\n",
       "      <td>trial_premium</td>\n",
       "      <td>test</td>\n",
       "    </tr>\n",
       "    <tr>\n",
       "      <th>2</th>\n",
       "      <td>892236423.0</td>\n",
       "      <td>United States of America</td>\n",
       "      <td>2017-10-18 01:09:00</td>\n",
       "      <td>2017-10-23 00:15:00</td>\n",
       "      <td>3783.0</td>\n",
       "      <td>67.0</td>\n",
       "      <td>menu</td>\n",
       "      <td>other_type</td>\n",
       "      <td>test</td>\n",
       "    </tr>\n",
       "    <tr>\n",
       "      <th>3</th>\n",
       "      <td>892236423.0</td>\n",
       "      <td>United States of America</td>\n",
       "      <td>2017-10-18 01:09:00</td>\n",
       "      <td>2017-10-27 22:38:00</td>\n",
       "      <td>3783.0</td>\n",
       "      <td>67.0</td>\n",
       "      <td>menu</td>\n",
       "      <td>other_type</td>\n",
       "      <td>test</td>\n",
       "    </tr>\n",
       "    <tr>\n",
       "      <th>4</th>\n",
       "      <td>892168170.0</td>\n",
       "      <td>United States of America</td>\n",
       "      <td>2017-10-19 17:10:00</td>\n",
       "      <td>2017-10-27 19:10:00</td>\n",
       "      <td>9087.0</td>\n",
       "      <td>147.0</td>\n",
       "      <td>trial_vip_popup</td>\n",
       "      <td>trial_premium</td>\n",
       "      <td>test</td>\n",
       "    </tr>\n",
       "  </tbody>\n",
       "</table>\n",
       "</div>"
      ],
      "text/plain": [
       "           uid                   country           joined_at  \\\n",
       "0  891345942.0                     Italy 2017-05-11 13:00:00   \n",
       "1  892054251.0  United States of America 2017-10-22 00:33:00   \n",
       "2  892236423.0  United States of America 2017-10-18 01:09:00   \n",
       "3  892236423.0  United States of America 2017-10-18 01:09:00   \n",
       "4  892168170.0  United States of America 2017-10-19 17:10:00   \n",
       "\n",
       "              paid_at  revenue  payment_id        from_page   product_type  \\\n",
       "0 2017-11-13 15:04:00  12909.0       147.0  trial_vip_popup  trial_premium   \n",
       "1 2017-10-30 01:37:00  13923.0       147.0  trial_vip_popup  trial_premium   \n",
       "2 2017-10-23 00:15:00   3783.0        67.0             menu     other_type   \n",
       "3 2017-10-27 22:38:00   3783.0        67.0             menu     other_type   \n",
       "4 2017-10-27 19:10:00   9087.0       147.0  trial_vip_popup  trial_premium   \n",
       "\n",
       "  group  \n",
       "0  test  \n",
       "1  test  \n",
       "2  test  \n",
       "3  test  \n",
       "4  test  "
      ]
     },
     "execution_count": 39,
     "metadata": {},
     "output_type": "execute_result"
    }
   ],
   "source": [
    "#смотрим на объединенный датафрейм\n",
    "all_transactions.head()"
   ]
  },
  {
   "cell_type": "code",
   "execution_count": 40,
   "metadata": {},
   "outputs": [
    {
     "name": "stdout",
     "output_type": "stream",
     "text": [
      "Количество строк в файле: 945\n",
      "Количество колонок в файле: 9\n",
      "Количество дубликатов: 0\n"
     ]
    },
    {
     "data": {
      "text/html": [
       "<div>\n",
       "<style scoped>\n",
       "    .dataframe tbody tr th:only-of-type {\n",
       "        vertical-align: middle;\n",
       "    }\n",
       "\n",
       "    .dataframe tbody tr th {\n",
       "        vertical-align: top;\n",
       "    }\n",
       "\n",
       "    .dataframe thead th {\n",
       "        text-align: right;\n",
       "    }\n",
       "</style>\n",
       "<table border=\"1\" class=\"dataframe\">\n",
       "  <thead>\n",
       "    <tr style=\"text-align: right;\">\n",
       "      <th></th>\n",
       "      <th>column</th>\n",
       "      <th>Тип данных</th>\n",
       "      <th>Уникальные значения</th>\n",
       "      <th>Пропуски</th>\n",
       "    </tr>\n",
       "  </thead>\n",
       "  <tbody>\n",
       "    <tr>\n",
       "      <th>0</th>\n",
       "      <td>uid</td>\n",
       "      <td>float64</td>\n",
       "      <td>526</td>\n",
       "      <td>0</td>\n",
       "    </tr>\n",
       "    <tr>\n",
       "      <th>1</th>\n",
       "      <td>country</td>\n",
       "      <td>object</td>\n",
       "      <td>23</td>\n",
       "      <td>0</td>\n",
       "    </tr>\n",
       "    <tr>\n",
       "      <th>2</th>\n",
       "      <td>joined_at</td>\n",
       "      <td>datetime64[ns]</td>\n",
       "      <td>525</td>\n",
       "      <td>0</td>\n",
       "    </tr>\n",
       "    <tr>\n",
       "      <th>3</th>\n",
       "      <td>paid_at</td>\n",
       "      <td>datetime64[ns]</td>\n",
       "      <td>893</td>\n",
       "      <td>0</td>\n",
       "    </tr>\n",
       "    <tr>\n",
       "      <th>4</th>\n",
       "      <td>revenue</td>\n",
       "      <td>float64</td>\n",
       "      <td>265</td>\n",
       "      <td>0</td>\n",
       "    </tr>\n",
       "    <tr>\n",
       "      <th>5</th>\n",
       "      <td>payment_id</td>\n",
       "      <td>float64</td>\n",
       "      <td>7</td>\n",
       "      <td>0</td>\n",
       "    </tr>\n",
       "    <tr>\n",
       "      <th>6</th>\n",
       "      <td>from_page</td>\n",
       "      <td>object</td>\n",
       "      <td>28</td>\n",
       "      <td>0</td>\n",
       "    </tr>\n",
       "    <tr>\n",
       "      <th>7</th>\n",
       "      <td>product_type</td>\n",
       "      <td>object</td>\n",
       "      <td>4</td>\n",
       "      <td>0</td>\n",
       "    </tr>\n",
       "    <tr>\n",
       "      <th>8</th>\n",
       "      <td>group</td>\n",
       "      <td>object</td>\n",
       "      <td>3</td>\n",
       "      <td>0</td>\n",
       "    </tr>\n",
       "  </tbody>\n",
       "</table>\n",
       "</div>"
      ],
      "text/plain": [
       "         column      Тип данных  Уникальные значения  Пропуски\n",
       "0           uid         float64                  526         0\n",
       "1       country          object                   23         0\n",
       "2     joined_at  datetime64[ns]                  525         0\n",
       "3       paid_at  datetime64[ns]                  893         0\n",
       "4       revenue         float64                  265         0\n",
       "5    payment_id         float64                    7         0\n",
       "6     from_page          object                   28         0\n",
       "7  product_type          object                    4         0\n",
       "8         group          object                    3         0"
      ]
     },
     "execution_count": 40,
     "metadata": {},
     "output_type": "execute_result"
    }
   ],
   "source": [
    "#применяем функцию\n",
    "analysis_first(all_transactions)"
   ]
  },
  {
   "cell_type": "markdown",
   "metadata": {},
   "source": [
    "Как мы видим количество уникальных пользователей меньше, чем количество строк в датафрейме, следовательно некоторые id пользователей могут встречаться не один раз при совершении разных операций."
   ]
  },
  {
   "cell_type": "code",
   "execution_count": 41,
   "metadata": {},
   "outputs": [
    {
     "data": {
      "image/png": "[encoded data removed]",
      "text/plain": [
       "<Figure size 1008x576 with 1 Axes>"
      ]
     },
     "metadata": {},
     "output_type": "display_data"
    }
   ],
   "source": [
    "#смотрим на разбивку пользователей на группы по странам\n",
    "trans_by_country = all_transactions.groupby(['country', 'group'], as_index=False).agg({'uid': 'count'})\n",
    "sns.set(rc={'figure.figsize': (14, 8)})\n",
    "ax = sns.barplot(data=trans_by_country.query('uid != 0'), x=\"country\", y='uid', hue=\"group\")\n",
    "ax.set(title='Распределение пользователей на группы по странам')\n",
    "plt.xticks(rotation=90)\n",
    "plt.show()"
   ]
  },
  {
   "cell_type": "markdown",
   "metadata": {},
   "source": [
    "Распределение пользователей наших групп по странам неравномерно, имеются страны, пользователи в которых не относятся ко всем трем исследуемым группам."
   ]
  },
  {
   "cell_type": "markdown",
   "metadata": {},
   "source": [
    "Также посмотрим на временной диапазон данных."
   ]
  },
  {
   "cell_type": "code",
   "execution_count": 42,
   "metadata": {},
   "outputs": [
    {
     "name": "stdout",
     "output_type": "stream",
     "text": [
      "Дата и время первой регистрации: 2015-01-19 11:49:00\n",
      "Дата и время последней регистрации: 2017-10-31 23:40:00\n"
     ]
    }
   ],
   "source": [
    "print(f'Дата и время первой регистрации:', all_transactions.joined_at.min())\n",
    "print(f'Дата и время последней регистрации:', all_transactions.joined_at.max())"
   ]
  },
  {
   "cell_type": "code",
   "execution_count": 43,
   "metadata": {},
   "outputs": [
    {
     "name": "stdout",
     "output_type": "stream",
     "text": [
      "Дата и время первой покупки: 2016-12-14 16:16:00\n",
      "Дата и время последней покупки: 2017-12-11 23:28:00\n"
     ]
    }
   ],
   "source": [
    "print(f'Дата и время первой покупки:', all_transactions.paid_at.min())\n",
    "print(f'Дата и время последней покупки:', all_transactions.paid_at.max())"
   ]
  },
  {
   "cell_type": "code",
   "execution_count": 44,
   "metadata": {},
   "outputs": [
    {
     "data": {
      "text/html": [
       "<div>\n",
       "<style scoped>\n",
       "    .dataframe tbody tr th:only-of-type {\n",
       "        vertical-align: middle;\n",
       "    }\n",
       "\n",
       "    .dataframe tbody tr th {\n",
       "        vertical-align: top;\n",
       "    }\n",
       "\n",
       "    .dataframe thead th {\n",
       "        text-align: right;\n",
       "    }\n",
       "</style>\n",
       "<table border=\"1\" class=\"dataframe\">\n",
       "  <thead>\n",
       "    <tr style=\"text-align: right;\">\n",
       "      <th></th>\n",
       "      <th>uid</th>\n",
       "      <th>country</th>\n",
       "      <th>joined_at</th>\n",
       "      <th>paid_at</th>\n",
       "      <th>revenue</th>\n",
       "      <th>payment_id</th>\n",
       "      <th>from_page</th>\n",
       "      <th>product_type</th>\n",
       "      <th>group</th>\n",
       "    </tr>\n",
       "  </thead>\n",
       "  <tbody>\n",
       "    <tr>\n",
       "      <th>330</th>\n",
       "      <td>960936960.0</td>\n",
       "      <td>Russian Federation</td>\n",
       "      <td>2015-01-19 11:49:00</td>\n",
       "      <td>2016-12-14 17:30:00</td>\n",
       "      <td>26.0</td>\n",
       "      <td>0.0</td>\n",
       "      <td>refund_VP</td>\n",
       "      <td>other_type</td>\n",
       "      <td>control_1</td>\n",
       "    </tr>\n",
       "    <tr>\n",
       "      <th>364</th>\n",
       "      <td>960936960.0</td>\n",
       "      <td>Russian Federation</td>\n",
       "      <td>2015-01-19 11:49:00</td>\n",
       "      <td>2016-12-14 17:35:00</td>\n",
       "      <td>637.0</td>\n",
       "      <td>0.0</td>\n",
       "      <td>refung_AP</td>\n",
       "      <td>other_type</td>\n",
       "      <td>control_1</td>\n",
       "    </tr>\n",
       "    <tr>\n",
       "      <th>481</th>\n",
       "      <td>960936960.0</td>\n",
       "      <td>Russian Federation</td>\n",
       "      <td>2015-01-19 11:49:00</td>\n",
       "      <td>2016-12-14 16:16:00</td>\n",
       "      <td>143.0</td>\n",
       "      <td>0.0</td>\n",
       "      <td>refund_WP</td>\n",
       "      <td>other_type</td>\n",
       "      <td>control_1</td>\n",
       "    </tr>\n",
       "  </tbody>\n",
       "</table>\n",
       "</div>"
      ],
      "text/plain": [
       "             uid             country           joined_at             paid_at  \\\n",
       "330  960936960.0  Russian Federation 2015-01-19 11:49:00 2016-12-14 17:30:00   \n",
       "364  960936960.0  Russian Federation 2015-01-19 11:49:00 2016-12-14 17:35:00   \n",
       "481  960936960.0  Russian Federation 2015-01-19 11:49:00 2016-12-14 16:16:00   \n",
       "\n",
       "     revenue  payment_id  from_page product_type      group  \n",
       "330     26.0         0.0  refund_VP   other_type  control_1  \n",
       "364    637.0         0.0  refung_AP   other_type  control_1  \n",
       "481    143.0         0.0  refund_WP   other_type  control_1  "
      ]
     },
     "execution_count": 44,
     "metadata": {},
     "output_type": "execute_result"
    }
   ],
   "source": [
    "#посмотрим на данные по 2015 и 2016 году\n",
    "all_transactions.query('joined_at == \"2015-01-19 11:49:00\"')"
   ]
  },
  {
   "cell_type": "markdown",
   "metadata": {},
   "source": [
    "Убирем эти данные из общей талицы, поскольку указанные даты сильно отличаются от временного периода остальных операций. Есть предположение, что это была проверка приложения тестировшиком."
   ]
  },
  {
   "cell_type": "code",
   "execution_count": 45,
   "metadata": {},
   "outputs": [],
   "source": [
    "all_transactions = all_transactions.query('uid != \"960936960.0\"')"
   ]
  },
  {
   "cell_type": "markdown",
   "metadata": {},
   "source": [
    "Далее создадим колонку с данными о том, сколько дней прошло с момента регистрации пользователя до покупки"
   ]
  },
  {
   "cell_type": "code",
   "execution_count": 46,
   "metadata": {},
   "outputs": [],
   "source": [
    "all_transactions['days_to_pay'] = (all_transactions.paid_at - all_transactions.joined_at).dt.days"
   ]
  },
  {
   "cell_type": "code",
   "execution_count": 47,
   "metadata": {},
   "outputs": [
    {
     "data": {
      "text/html": [
       "<div>\n",
       "<style scoped>\n",
       "    .dataframe tbody tr th:only-of-type {\n",
       "        vertical-align: middle;\n",
       "    }\n",
       "\n",
       "    .dataframe tbody tr th {\n",
       "        vertical-align: top;\n",
       "    }\n",
       "\n",
       "    .dataframe thead th {\n",
       "        text-align: right;\n",
       "    }\n",
       "</style>\n",
       "<table border=\"1\" class=\"dataframe\">\n",
       "  <thead>\n",
       "    <tr style=\"text-align: right;\">\n",
       "      <th></th>\n",
       "      <th>uid</th>\n",
       "      <th>country</th>\n",
       "      <th>joined_at</th>\n",
       "      <th>paid_at</th>\n",
       "      <th>revenue</th>\n",
       "      <th>payment_id</th>\n",
       "      <th>from_page</th>\n",
       "      <th>product_type</th>\n",
       "      <th>group</th>\n",
       "      <th>days_to_pay</th>\n",
       "    </tr>\n",
       "  </thead>\n",
       "  <tbody>\n",
       "    <tr>\n",
       "      <th>11</th>\n",
       "      <td>891861048.0</td>\n",
       "      <td>Canada</td>\n",
       "      <td>2017-10-26 02:55:00</td>\n",
       "      <td>2017-10-11 19:00:00</td>\n",
       "      <td>3588.0</td>\n",
       "      <td>68.0</td>\n",
       "      <td>none</td>\n",
       "      <td>premium_no_trial</td>\n",
       "      <td>test</td>\n",
       "      <td>-15</td>\n",
       "    </tr>\n",
       "    <tr>\n",
       "      <th>20</th>\n",
       "      <td>891806280.0</td>\n",
       "      <td>United States of America</td>\n",
       "      <td>2017-10-27 08:56:00</td>\n",
       "      <td>2017-03-11 10:57:00</td>\n",
       "      <td>8242.0</td>\n",
       "      <td>147.0</td>\n",
       "      <td>trial_vip_popup</td>\n",
       "      <td>trial_premium</td>\n",
       "      <td>test</td>\n",
       "      <td>-230</td>\n",
       "    </tr>\n",
       "    <tr>\n",
       "      <th>24</th>\n",
       "      <td>891786216.0</td>\n",
       "      <td>Spain</td>\n",
       "      <td>2017-10-27 18:20:00</td>\n",
       "      <td>2017-03-11 20:20:00</td>\n",
       "      <td>12818.0</td>\n",
       "      <td>147.0</td>\n",
       "      <td>trial_vip_popup</td>\n",
       "      <td>trial_premium</td>\n",
       "      <td>test</td>\n",
       "      <td>-230</td>\n",
       "    </tr>\n",
       "    <tr>\n",
       "      <th>25</th>\n",
       "      <td>892057347.0</td>\n",
       "      <td>France</td>\n",
       "      <td>2017-10-21 23:15:00</td>\n",
       "      <td>2017-08-11 01:56:00</td>\n",
       "      <td>1209.0</td>\n",
       "      <td>19.0</td>\n",
       "      <td>none</td>\n",
       "      <td>coins</td>\n",
       "      <td>test</td>\n",
       "      <td>-72</td>\n",
       "    </tr>\n",
       "    <tr>\n",
       "      <th>36</th>\n",
       "      <td>891589239.0</td>\n",
       "      <td>Italy</td>\n",
       "      <td>2017-10-31 14:16:00</td>\n",
       "      <td>2017-09-11 15:44:00</td>\n",
       "      <td>6305.0</td>\n",
       "      <td>19.0</td>\n",
       "      <td>empty_likes</td>\n",
       "      <td>coins</td>\n",
       "      <td>test</td>\n",
       "      <td>-50</td>\n",
       "    </tr>\n",
       "  </tbody>\n",
       "</table>\n",
       "</div>"
      ],
      "text/plain": [
       "            uid                   country           joined_at  \\\n",
       "11  891861048.0                    Canada 2017-10-26 02:55:00   \n",
       "20  891806280.0  United States of America 2017-10-27 08:56:00   \n",
       "24  891786216.0                     Spain 2017-10-27 18:20:00   \n",
       "25  892057347.0                    France 2017-10-21 23:15:00   \n",
       "36  891589239.0                     Italy 2017-10-31 14:16:00   \n",
       "\n",
       "               paid_at  revenue  payment_id        from_page  \\\n",
       "11 2017-10-11 19:00:00   3588.0        68.0             none   \n",
       "20 2017-03-11 10:57:00   8242.0       147.0  trial_vip_popup   \n",
       "24 2017-03-11 20:20:00  12818.0       147.0  trial_vip_popup   \n",
       "25 2017-08-11 01:56:00   1209.0        19.0             none   \n",
       "36 2017-09-11 15:44:00   6305.0        19.0      empty_likes   \n",
       "\n",
       "        product_type group  days_to_pay  \n",
       "11  premium_no_trial  test          -15  \n",
       "20     trial_premium  test         -230  \n",
       "24     trial_premium  test         -230  \n",
       "25             coins  test          -72  \n",
       "36             coins  test          -50  "
      ]
     },
     "execution_count": 47,
     "metadata": {},
     "output_type": "execute_result"
    }
   ],
   "source": [
    "#посмотрим везде ли оплата произошла после регистрации\n",
    "all_transactions.query('days_to_pay < 0').head(5)"
   ]
  },
  {
   "cell_type": "markdown",
   "metadata": {},
   "source": [
    "! Нашли сбой в программе, необходимо обратить внимание разработчиков на эти данные. \n",
    "\n",
    "При этом, стоит заметить, что операции по оплате совершены 11 числа, скорее всего мог произойти сбой в правильном написании даты покупки, а именно: число месяца и дня указаны в ошибочном порядке. Что касается нашего исследования, поскольку оплата все-таки прошла, мы не будем избавляться от этих данных и продолжим наш анализ."
   ]
  },
  {
   "cell_type": "markdown",
   "metadata": {},
   "source": [
    "Узнаем количество пользователей, которые приобрели конкретные типы продукта:\n",
    "* trial_premium – пробная премиум-подписка, \n",
    "* premium_no_trial – премиум-подписка без пробной, \n",
    "* coins – подписка за внутреннюю валюту, \n",
    "* other_type – другое"
   ]
  },
  {
   "cell_type": "code",
   "execution_count": 48,
   "metadata": {},
   "outputs": [
    {
     "data": {
      "text/plain": [
       "product_type\n",
       "coins               358\n",
       "premium_no_trial    289\n",
       "trial_premium       182\n",
       "other_type          113\n",
       "dtype: int64"
      ]
     },
     "execution_count": 48,
     "metadata": {},
     "output_type": "execute_result"
    }
   ],
   "source": [
    "all_transactions.value_counts('product_type')"
   ]
  },
  {
   "cell_type": "markdown",
   "metadata": {},
   "source": [
    "В условиях задания сказано, что в рамках эксперимента для новых пользователей из нескольких стран была изменена стоимость премиум-подписки, при этом стоимость пробного периода оставалась прежней. Следовательно, далее при расчете конверсии в подписку нас будут интересовать в первую очередь значения типа продукта premium_no_trial – премиум-подписка без пробной.\n",
    "\n",
    "Посмотрим на распределение выручки по premium_no_trial."
   ]
  },
  {
   "cell_type": "code",
   "execution_count": 49,
   "metadata": {},
   "outputs": [],
   "source": [
    "prem_users_trans = all_transactions[all_transactions.product_type == 'premium_no_trial']"
   ]
  },
  {
   "cell_type": "code",
   "execution_count": 50,
   "metadata": {},
   "outputs": [
    {
     "data": {
      "image/png": "[encoded data removed]",
      "text/plain": [
       "<Figure size 1008x576 with 1 Axes>"
      ]
     },
     "metadata": {},
     "output_type": "display_data"
    }
   ],
   "source": [
    "#распределение выручки в зависимости от групп\n",
    "sns.boxplot(data=prem_users_trans, x='revenue', y='group')\n",
    "plt.title('Выручка в зависимости от групп')\n",
    "plt.xlabel('Выручка')\n",
    "plt.ylabel('Группа')\n",
    "plt.show()"
   ]
  },
  {
   "cell_type": "markdown",
   "metadata": {},
   "source": [
    "Видим, что значения revenue заметно различаются в группах, имеются выборосы, в тестовой группе revenue имеет больший межквартильный размах, медианное значение заметно больше, чем у контрольных групп. Можно сделать предположение об увеличении дохода от продажи премиум-подписки без пробной версии."
   ]
  },
  {
   "cell_type": "markdown",
   "metadata": {},
   "source": [
    "### Объединение таблиц пользователей с транзакциями"
   ]
  },
  {
   "cell_type": "markdown",
   "metadata": {},
   "source": [
    "Как мы помним у нас количество уникальных пользователей в таблице all_transactions превыщает число строк в датафрейме, поэтому для каждого пользователя определим сколько денег он потратил в приложении за время эксперимента, и уже данную таблицу присоединим к финальной таблице с пользователями"
   ]
  },
  {
   "cell_type": "code",
   "execution_count": 51,
   "metadata": {
    "scrolled": true
   },
   "outputs": [],
   "source": [
    "total_pay_trans = all_transactions.groupby('uid', as_index = False) \\\n",
    "                                  .agg({'revenue':'sum'})"
   ]
  },
  {
   "cell_type": "code",
   "execution_count": 52,
   "metadata": {},
   "outputs": [],
   "source": [
    "#объединим датасеты\n",
    "u_t = users_final.merge(total_pay_trans, how='left', on='uid').fillna(0)"
   ]
  },
  {
   "cell_type": "code",
   "execution_count": 53,
   "metadata": {},
   "outputs": [
    {
     "name": "stdout",
     "output_type": "stream",
     "text": [
      "Количество строк в файле: 12828\n",
      "Количество колонок в файле: 16\n",
      "Количество дубликатов: 0\n"
     ]
    },
    {
     "data": {
      "text/html": [
       "<div>\n",
       "<style scoped>\n",
       "    .dataframe tbody tr th:only-of-type {\n",
       "        vertical-align: middle;\n",
       "    }\n",
       "\n",
       "    .dataframe tbody tr th {\n",
       "        vertical-align: top;\n",
       "    }\n",
       "\n",
       "    .dataframe thead th {\n",
       "        text-align: right;\n",
       "    }\n",
       "</style>\n",
       "<table border=\"1\" class=\"dataframe\">\n",
       "  <thead>\n",
       "    <tr style=\"text-align: right;\">\n",
       "      <th></th>\n",
       "      <th>column</th>\n",
       "      <th>Тип данных</th>\n",
       "      <th>Уникальные значения</th>\n",
       "      <th>Пропуски</th>\n",
       "    </tr>\n",
       "  </thead>\n",
       "  <tbody>\n",
       "    <tr>\n",
       "      <th>0</th>\n",
       "      <td>country</td>\n",
       "      <td>object</td>\n",
       "      <td>25</td>\n",
       "      <td>0</td>\n",
       "    </tr>\n",
       "    <tr>\n",
       "      <th>1</th>\n",
       "      <td>uid</td>\n",
       "      <td>int64</td>\n",
       "      <td>12828</td>\n",
       "      <td>0</td>\n",
       "    </tr>\n",
       "    <tr>\n",
       "      <th>2</th>\n",
       "      <td>age</td>\n",
       "      <td>int64</td>\n",
       "      <td>68</td>\n",
       "      <td>0</td>\n",
       "    </tr>\n",
       "    <tr>\n",
       "      <th>3</th>\n",
       "      <td>attraction_coeff</td>\n",
       "      <td>int64</td>\n",
       "      <td>843</td>\n",
       "      <td>0</td>\n",
       "    </tr>\n",
       "    <tr>\n",
       "      <th>4</th>\n",
       "      <td>coins</td>\n",
       "      <td>float64</td>\n",
       "      <td>51</td>\n",
       "      <td>0</td>\n",
       "    </tr>\n",
       "    <tr>\n",
       "      <th>5</th>\n",
       "      <td>visit_days</td>\n",
       "      <td>object</td>\n",
       "      <td>2109</td>\n",
       "      <td>0</td>\n",
       "    </tr>\n",
       "    <tr>\n",
       "      <th>6</th>\n",
       "      <td>gender</td>\n",
       "      <td>object</td>\n",
       "      <td>2</td>\n",
       "      <td>0</td>\n",
       "    </tr>\n",
       "    <tr>\n",
       "      <th>7</th>\n",
       "      <td>age_filter_start</td>\n",
       "      <td>int64</td>\n",
       "      <td>67</td>\n",
       "      <td>0</td>\n",
       "    </tr>\n",
       "    <tr>\n",
       "      <th>8</th>\n",
       "      <td>age_filter_end</td>\n",
       "      <td>int64</td>\n",
       "      <td>81</td>\n",
       "      <td>0</td>\n",
       "    </tr>\n",
       "    <tr>\n",
       "      <th>9</th>\n",
       "      <td>views_count</td>\n",
       "      <td>int64</td>\n",
       "      <td>559</td>\n",
       "      <td>0</td>\n",
       "    </tr>\n",
       "    <tr>\n",
       "      <th>10</th>\n",
       "      <td>was_premium</td>\n",
       "      <td>float64</td>\n",
       "      <td>2</td>\n",
       "      <td>0</td>\n",
       "    </tr>\n",
       "    <tr>\n",
       "      <th>11</th>\n",
       "      <td>is_premium</td>\n",
       "      <td>float64</td>\n",
       "      <td>2</td>\n",
       "      <td>0</td>\n",
       "    </tr>\n",
       "    <tr>\n",
       "      <th>12</th>\n",
       "      <td>total_revenue</td>\n",
       "      <td>int64</td>\n",
       "      <td>291</td>\n",
       "      <td>0</td>\n",
       "    </tr>\n",
       "    <tr>\n",
       "      <th>13</th>\n",
       "      <td>group</td>\n",
       "      <td>object</td>\n",
       "      <td>3</td>\n",
       "      <td>0</td>\n",
       "    </tr>\n",
       "    <tr>\n",
       "      <th>14</th>\n",
       "      <td>days_sum</td>\n",
       "      <td>int64</td>\n",
       "      <td>32</td>\n",
       "      <td>0</td>\n",
       "    </tr>\n",
       "    <tr>\n",
       "      <th>15</th>\n",
       "      <td>revenue</td>\n",
       "      <td>float64</td>\n",
       "      <td>288</td>\n",
       "      <td>0</td>\n",
       "    </tr>\n",
       "  </tbody>\n",
       "</table>\n",
       "</div>"
      ],
      "text/plain": [
       "              column Тип данных  Уникальные значения  Пропуски\n",
       "0            country     object                   25         0\n",
       "1                uid      int64                12828         0\n",
       "2                age      int64                   68         0\n",
       "3   attraction_coeff      int64                  843         0\n",
       "4              coins    float64                   51         0\n",
       "5         visit_days     object                 2109         0\n",
       "6             gender     object                    2         0\n",
       "7   age_filter_start      int64                   67         0\n",
       "8     age_filter_end      int64                   81         0\n",
       "9        views_count      int64                  559         0\n",
       "10       was_premium    float64                    2         0\n",
       "11        is_premium    float64                    2         0\n",
       "12     total_revenue      int64                  291         0\n",
       "13             group     object                    3         0\n",
       "14          days_sum      int64                   32         0\n",
       "15           revenue    float64                  288         0"
      ]
     },
     "execution_count": 53,
     "metadata": {},
     "output_type": "execute_result"
    }
   ],
   "source": [
    "#применяем функцию\n",
    "analysis_first(u_t)"
   ]
  },
  {
   "cell_type": "code",
   "execution_count": 54,
   "metadata": {},
   "outputs": [
    {
     "name": "stdout",
     "output_type": "stream",
     "text": [
      "Сумма по total_revenue 6767488\n",
      "Сумма по revenue 6700122.0\n"
     ]
    }
   ],
   "source": [
    "#посмотрим на суммы \n",
    "print(f'Сумма по total_revenue', u_t.total_revenue.sum())\n",
    "print(f'Сумма по revenue', u_t.revenue.sum())"
   ]
  },
  {
   "cell_type": "code",
   "execution_count": 55,
   "metadata": {
    "scrolled": true
   },
   "outputs": [
    {
     "data": {
      "text/html": [
       "<div>\n",
       "<style scoped>\n",
       "    .dataframe tbody tr th:only-of-type {\n",
       "        vertical-align: middle;\n",
       "    }\n",
       "\n",
       "    .dataframe tbody tr th {\n",
       "        vertical-align: top;\n",
       "    }\n",
       "\n",
       "    .dataframe thead th {\n",
       "        text-align: right;\n",
       "    }\n",
       "</style>\n",
       "<table border=\"1\" class=\"dataframe\">\n",
       "  <thead>\n",
       "    <tr style=\"text-align: right;\">\n",
       "      <th></th>\n",
       "      <th>country</th>\n",
       "      <th>uid</th>\n",
       "      <th>age</th>\n",
       "      <th>attraction_coeff</th>\n",
       "      <th>coins</th>\n",
       "      <th>visit_days</th>\n",
       "      <th>gender</th>\n",
       "      <th>age_filter_start</th>\n",
       "      <th>age_filter_end</th>\n",
       "      <th>views_count</th>\n",
       "      <th>was_premium</th>\n",
       "      <th>is_premium</th>\n",
       "      <th>total_revenue</th>\n",
       "      <th>group</th>\n",
       "      <th>days_sum</th>\n",
       "      <th>revenue</th>\n",
       "    </tr>\n",
       "  </thead>\n",
       "  <tbody>\n",
       "    <tr>\n",
       "      <th>625</th>\n",
       "      <td>Argentina</td>\n",
       "      <td>891252072</td>\n",
       "      <td>43</td>\n",
       "      <td>326</td>\n",
       "      <td>0.0</td>\n",
       "      <td>1,2,3,4,5,6,7,8,9</td>\n",
       "      <td>male</td>\n",
       "      <td>40</td>\n",
       "      <td>46</td>\n",
       "      <td>98</td>\n",
       "      <td>1.0</td>\n",
       "      <td>1.0</td>\n",
       "      <td>8814</td>\n",
       "      <td>control_1</td>\n",
       "      <td>9</td>\n",
       "      <td>7553.0</td>\n",
       "    </tr>\n",
       "    <tr>\n",
       "      <th>3066</th>\n",
       "      <td>France</td>\n",
       "      <td>892275462</td>\n",
       "      <td>31</td>\n",
       "      <td>310</td>\n",
       "      <td>0.0</td>\n",
       "      <td>1,2,3,4,5,9,13,15,16</td>\n",
       "      <td>male</td>\n",
       "      <td>36</td>\n",
       "      <td>68</td>\n",
       "      <td>58</td>\n",
       "      <td>1.0</td>\n",
       "      <td>1.0</td>\n",
       "      <td>14885</td>\n",
       "      <td>test</td>\n",
       "      <td>9</td>\n",
       "      <td>58968.0</td>\n",
       "    </tr>\n",
       "    <tr>\n",
       "      <th>3476</th>\n",
       "      <td>France</td>\n",
       "      <td>892207959</td>\n",
       "      <td>21</td>\n",
       "      <td>230</td>\n",
       "      <td>0.0</td>\n",
       "      <td>1,2,4,5,6,7,9,10,11,12,13,14,15,16,17,18,19,20...</td>\n",
       "      <td>male</td>\n",
       "      <td>18</td>\n",
       "      <td>24</td>\n",
       "      <td>430</td>\n",
       "      <td>1.0</td>\n",
       "      <td>1.0</td>\n",
       "      <td>18902</td>\n",
       "      <td>control_1</td>\n",
       "      <td>26</td>\n",
       "      <td>16380.0</td>\n",
       "    </tr>\n",
       "  </tbody>\n",
       "</table>\n",
       "</div>"
      ],
      "text/plain": [
       "        country        uid  age  attraction_coeff  coins  \\\n",
       "625   Argentina  891252072   43               326    0.0   \n",
       "3066     France  892275462   31               310    0.0   \n",
       "3476     France  892207959   21               230    0.0   \n",
       "\n",
       "                                             visit_days gender  \\\n",
       "625                                   1,2,3,4,5,6,7,8,9   male   \n",
       "3066                               1,2,3,4,5,9,13,15,16   male   \n",
       "3476  1,2,4,5,6,7,9,10,11,12,13,14,15,16,17,18,19,20...   male   \n",
       "\n",
       "      age_filter_start  age_filter_end  views_count  was_premium  is_premium  \\\n",
       "625                 40              46           98          1.0         1.0   \n",
       "3066                36              68           58          1.0         1.0   \n",
       "3476                18              24          430          1.0         1.0   \n",
       "\n",
       "      total_revenue      group  days_sum  revenue  \n",
       "625            8814  control_1         9   7553.0  \n",
       "3066          14885       test         9  58968.0  \n",
       "3476          18902  control_1        26  16380.0  "
      ]
     },
     "execution_count": 55,
     "metadata": {},
     "output_type": "execute_result"
    }
   ],
   "source": [
    "#пользователи с различиями в total_revenue и revenue\n",
    "no = u_t.query('total_revenue != revenue')\n",
    "no.head(3)"
   ]
  },
  {
   "cell_type": "code",
   "execution_count": 56,
   "metadata": {},
   "outputs": [
    {
     "data": {
      "text/plain": [
       "22"
      ]
     },
     "execution_count": 56,
     "metadata": {},
     "output_type": "execute_result"
    }
   ],
   "source": [
    "no.uid.nunique()"
   ]
  },
  {
   "cell_type": "markdown",
   "metadata": {},
   "source": [
    "Мы видим различие между 22 пользователями в распределение выручки total_revenue и revenue, при этом различия имееются в разных группах, скорее всего какие то транзакции неверно записались, в таком случае мы будем использовать в дальнейшем сумму - revenue(нормированная выручка), которая отражает доход от пользователей за период эксперимента.\n",
    "\n",
    "#### Выводы по разделу\n",
    "В целом мы подготовили данные для последующего проведения А/А и А/В тестов, а именно: удалены дубликаты; произведена фильтрация по странам (оставлены только те страны, которые есть в тестовой выборке, поскольку в них произошли изменения); заполнены пропуски; удалены записи, не относящиеся к периоду проведения эксперимента.\n",
    "\n",
    "Также мы пришли к выводу о ненормальности расспределения показателей выручки (total_revenue, revenue), выявили выбросы в данных, вместе с тем, решили не избавляться от них, поскольку подобное может привести к потери информации о \"вип-клиентах\", которые тратят большие суммы в приложении. При этом были установлены различия в total_revenue и revenue в отношении 22 пользователей, которые могут быть связанны в том числе с проблемами технического характера, однако поскольку показатель revenue взят из таблиц по транзакциям и представляет собой сумму, потраченную клиентом за период эксперимента, мы будем использовать в дальнейшем его, для иных расчетов."
   ]
  },
  {
   "cell_type": "markdown",
   "metadata": {},
   "source": [
    "## Постановка целей "
   ]
  },
  {
   "cell_type": "markdown",
   "metadata": {},
   "source": [
    "Итак, в задании сказано, что мы имеем дело с дейтинговым приложением, которое используется пользователями с целью поиска подходящего партнера. При этом цель самих создателей подобных проектов заключается в получении дохода от использования данного приложения, а одним из вариантов увелечения дохода является стимулирование пользователей на совершении какой-либо покупки в приложении, в нашем случае эксперимент проводился в отношении покупки премиум-подписки без пробной.\n",
    "\n",
    "Для анализа прогресса по решению вопроса об увелечении дохода с помощью такого эксперимента нам помогут следующие метрики:\n",
    "* ARPU (средняя выручка одного пользователя) и ARPPU (средняя выручка одного платящего пользователя), поскольку увеличение данных показателей означает увелечение дохода в целом\n",
    "* Конверсия (CR) в покупку продукта premium_no_trial, которая будет отражать изменение количества премиум-подписок в связи с изменением цены, при этом следует внимательно следить за тем, чтобы показатели конверсии не падали, так как это бы означало, что мы теряям часть наших потенциальных покупателей\n",
    "\n",
    "\n",
    "Учитывая изложенное, начнем нашу проверку с проведения А/А тестов."
   ]
  },
  {
   "cell_type": "markdown",
   "metadata": {},
   "source": [
    "### Проведение А/А теста (ARPU, ARPPU) "
   ]
  },
  {
   "cell_type": "markdown",
   "metadata": {},
   "source": [
    "Задача A/A-тестов преимущественно заключается в том, чтобы понять, корректно ли работает система сплитования. \n",
    "В А/А/B-тестах мы хотим принимать нулевую гипотезу в паре A1/A2 и отвергать на А1+А2/B. Дополнительная контрольная ветка служит страховкой. Для проверки системы сплитования будем использовать t-тест.\n",
    "\n",
    "Применяя Т-критерий Стьюдента нужно помнить о следующем:\n",
    "* Дисперсии внутри наших групп должны быть примерно одинаковы (требование гомогенности дисперсий). Проверить можно с помощью критерия Левена.\n",
    "* Особенно важный вопрос — это требование к нормальности данных обеих групп при применении t-теста. Однако учитывая большой размер нашей выборки это требование можно опустить."
   ]
  },
  {
   "cell_type": "markdown",
   "metadata": {},
   "source": [
    "Гипотезы теста Левина:\n",
    "* Нулевая гипотеза (H0): дисперсия среди групп одинакова.\n",
    "* Альтернативная гипотеза (H1) : дисперсия среди групп не одинакова.\n",
    "\n",
    "Пороговое значение - 0,05"
   ]
  },
  {
   "cell_type": "markdown",
   "metadata": {},
   "source": [
    "* ARPU"
   ]
  },
  {
   "cell_type": "code",
   "execution_count": 57,
   "metadata": {
    "scrolled": true
   },
   "outputs": [
    {
     "name": "stdout",
     "output_type": "stream",
     "text": [
      "LeveneResult(statistic=1.368347596442459, pvalue=0.24212858043183158)\n"
     ]
    }
   ],
   "source": [
    "print(stats.levene(u_t.query('group == \"control_1\"').revenue, u_t.query('group == \"control_2\"').revenue))"
   ]
  },
  {
   "cell_type": "markdown",
   "metadata": {},
   "source": [
    "pvalue > 0,05 - требование о гомогенности дисперсий подтверждается"
   ]
  },
  {
   "cell_type": "code",
   "execution_count": 58,
   "metadata": {},
   "outputs": [
    {
     "data": {
      "application/vnd.jupyter.widget-view+json": {
       "model_id": "4acf28a8e72c42818246a4babb9d7ea4",
       "version_major": 2,
       "version_minor": 0
      },
      "text/plain": [
       "HBox(children=(FloatProgress(value=0.0, max=1000.0), HTML(value='')))"
      ]
     },
     "metadata": {},
     "output_type": "display_data"
    },
    {
     "name": "stdout",
     "output_type": "stream",
     "text": [
      "\n"
     ]
    },
    {
     "data": {
      "image/png": "[encoded data removed]",
      "text/plain": [
       "<Figure size 1008x576 with 1 Axes>"
      ]
     },
     "metadata": {},
     "output_type": "display_data"
    },
    {
     "data": {
      "text/plain": [
       "0.02"
      ]
     },
     "execution_count": 58,
     "metadata": {},
     "output_type": "execute_result"
    }
   ],
   "source": [
    "n = 100000\n",
    "simulations = 1000\n",
    "n_s = 1000\n",
    "res = []\n",
    "\n",
    "A0 = u_t.query('group == \"control_1\"').revenue\n",
    "A1 = u_t.query('group == \"control_2\"').revenue\n",
    "\n",
    "# Запуск симуляций A/A теста\n",
    "for i in tqdm(range(simulations)):\n",
    "    s1 = A0.sample(n_s, replace=False).values\n",
    "    s2 = A1.sample(n_s, replace=False).values\n",
    "    res.append(stats.ttest_ind(s1, s2)[1]) # сохраняем pvalue\n",
    "\n",
    "plt.hist(res, bins = 50)\n",
    "plt.style.use('ggplot')\n",
    "plt.xlabel('pvalues')\n",
    "plt.ylabel('frequency')\n",
    "plt.title(\"Histogram of ttest A/A simulations \")\n",
    "plt.show()\n",
    "\n",
    "# Проверяем, что количество ложноположительных случаев не превышает альфа\n",
    "sum(np.array(res) <0.05) / simulations"
   ]
  },
  {
   "cell_type": "markdown",
   "metadata": {},
   "source": [
    "pvalue < 0.05, система сплитования работает корректно "
   ]
  },
  {
   "cell_type": "markdown",
   "metadata": {},
   "source": [
    "* ARPPU"
   ]
  },
  {
   "cell_type": "code",
   "execution_count": 59,
   "metadata": {},
   "outputs": [
    {
     "data": {
      "application/vnd.jupyter.widget-view+json": {
       "model_id": "5c3a7f7ae7fc4d13a88557adda67bbad",
       "version_major": 2,
       "version_minor": 0
      },
      "text/plain": [
       "HBox(children=(FloatProgress(value=0.0, max=1000.0), HTML(value='')))"
      ]
     },
     "metadata": {},
     "output_type": "display_data"
    },
    {
     "name": "stdout",
     "output_type": "stream",
     "text": [
      "\n"
     ]
    },
    {
     "data": {
      "image/png": "[encoded data removed]",
      "text/plain": [
       "<Figure size 1008x576 with 1 Axes>"
      ]
     },
     "metadata": {},
     "output_type": "display_data"
    },
    {
     "data": {
      "text/plain": [
       "0.022"
      ]
     },
     "execution_count": 59,
     "metadata": {},
     "output_type": "execute_result"
    }
   ],
   "source": [
    "n = 100000\n",
    "simulations = 1000\n",
    "n_s = 50\n",
    "res = []\n",
    "\n",
    "A0 = u_t.query('group == \"control_1\" and revenue > 0').revenue\n",
    "A1 = u_t.query('group == \"control_2\" and revenue > 0').revenue\n",
    "\n",
    "# Запуск симуляций A/A теста\n",
    "for i in tqdm(range(simulations)):\n",
    "    s1 = A0.sample(n_s, replace=False).values\n",
    "    s2 = A1.sample(n_s, replace=False).values\n",
    "    res.append(stats.ttest_ind(s1, s2)[1]) # сохраняем pvalue\n",
    "\n",
    "plt.hist(res, bins = 50)\n",
    "plt.style.use('ggplot')\n",
    "plt.xlabel('pvalues')\n",
    "plt.ylabel('frequency')\n",
    "plt.title(\"Histogram of ttest A/A simulations \")\n",
    "plt.show()\n",
    "\n",
    "# Проверяем, что количество ложноположительных случаев не превышает альфа\n",
    "sum(np.array(res) <0.05) / simulations"
   ]
  },
  {
   "cell_type": "markdown",
   "metadata": {},
   "source": [
    "pvalue < 0.05, система сплитования работает корректно"
   ]
  },
  {
   "cell_type": "markdown",
   "metadata": {},
   "source": [
    "## А/B тест  (ARPU, ARPPU) \n",
    "\n",
    "После проверки системы сплитования на корректность переходим к А/Б тестам.Будем проверять по схеме A1/B и A2/B, поскольку у нас две контрольные группы.\n",
    "\n",
    "Метрики эксперимента ARPU и ARPPU непрерывны, следовательно для их статистического анализа можно использовать методы сравнения средних (такие как t-test, bootstrap и т.д). Мы уже выяснили, что распределение величины revenue (суммированное по пользователям) отличается от нормального, а также имеет значительные выбросы. Использование t-test при таком распределении все же возможно, учитывая большой размер выборки, но, нам предпочтительнее использовать метод бутстрапа, который позволяет нам  строить доверительный интервал для любого параметра распределения, а для проверки гипотез — путём вычисления разницы такого интервала.\n",
    "\n",
    "\n",
    "Выдвигаем гипотезу:\n",
    "\n",
    "* H0 – статистически значимого различия между средними значениями в тестовой и контрольной группе нет (нулевая гипотеза)\n",
    "\n",
    "* H1 – средние значения в тестовой и контрольной группе статистически значимо отличаются (альтернативная гипотеза)\n",
    "\n",
    "Пороговый уровень значимости α=0.05."
   ]
  },
  {
   "cell_type": "code",
   "execution_count": 58,
   "metadata": {},
   "outputs": [],
   "source": [
    "#объявляем фукцию,которая позволит проверять гипотезы с помощью бутстрапа\n",
    "def get_bootstrap(\n",
    "    data_column_1, # числовые значения первой выборки\n",
    "    data_column_2, # числовые значения второй выборки\n",
    "    boot_it = 1000, # количество бутстрэп-подвыборок\n",
    "    statistic = np.mean, # интересующая нас статистика\n",
    "    bootstrap_conf_level = 0.95 # уровень значимости\n",
    "):\n",
    "    boot_len = max([len(data_column_1), len(data_column_2)])\n",
    "    boot_data = []\n",
    "    for i in tqdm(range(boot_it)): # извлекаем подвыборки\n",
    "        samples_1 = data_column_1.sample(\n",
    "            boot_len, \n",
    "            replace = True # параметр возвращения\n",
    "        ).values\n",
    "        \n",
    "        samples_2 = data_column_2.sample(\n",
    "            boot_len, \n",
    "            replace = True\n",
    "        ).values\n",
    "        \n",
    "        \n",
    "        boot_data.append(statistic(samples_1-samples_2)) # mean() - применяем статистику\n",
    "        \n",
    "    pd_boot_data = pd.DataFrame(boot_data)\n",
    "        \n",
    "        \n",
    "    left_quant = (1 - bootstrap_conf_level)/2\n",
    "    right_quant = 1 - (1 - bootstrap_conf_level) / 2\n",
    "    ci = pd_boot_data.quantile([left_quant, right_quant])\n",
    "        \n",
    "    p_1 = stats.norm.cdf(\n",
    "        x = 0, \n",
    "        loc = np.mean(boot_data), \n",
    "        scale = np.std(boot_data)\n",
    "    )\n",
    "    p_2 = stats.norm.cdf(\n",
    "        x = 0, \n",
    "        loc = -np.mean(boot_data), \n",
    "        scale = np.std(boot_data)\n",
    "    )\n",
    "    p_value = min(p_1, p_2) * 2\n",
    "        \n",
    "    # Визуализация\n",
    "    plt.hist(pd_boot_data[0], bins = 50)\n",
    "    \n",
    "    plt.style.use('ggplot')\n",
    "    plt.vlines(ci,ymin=0,ymax=50,linestyle='--')\n",
    "    plt.xlabel('boot_data')\n",
    "    plt.ylabel('frequency')\n",
    "    plt.title(\"Histogram of boot_data\")\n",
    "    plt.show()\n",
    "       \n",
    "    return {\"boot_data\": boot_data, \n",
    "            \"ci\": ci, \n",
    "            \"p_value\": p_value}"
   ]
  },
  {
   "cell_type": "markdown",
   "metadata": {},
   "source": [
    "* ARPU"
   ]
  },
  {
   "cell_type": "code",
   "execution_count": 59,
   "metadata": {},
   "outputs": [
    {
     "data": {
      "application/vnd.jupyter.widget-view+json": {
       "model_id": "bac5aa9af3904d4cb8a317518e7bb5f1",
       "version_major": 2,
       "version_minor": 0
      },
      "text/plain": [
       "HBox(children=(FloatProgress(value=0.0, max=1000.0), HTML(value='')))"
      ]
     },
     "metadata": {},
     "output_type": "display_data"
    },
    {
     "name": "stdout",
     "output_type": "stream",
     "text": [
      "\n"
     ]
    },
    {
     "data": {
      "image/png": "[encoded data removed]",
      "text/plain": [
       "<Figure size 1008x576 with 1 Axes>"
      ]
     },
     "metadata": {},
     "output_type": "display_data"
    },
    {
     "name": "stdout",
     "output_type": "stream",
     "text": [
      "p-value 0.7914992337740117, ci                 0\n",
      "0.025 -195.325602\n",
      "0.975  285.261808\n"
     ]
    }
   ],
   "source": [
    "#контроль 1 и тест\n",
    "booted_data = get_bootstrap(u_t[u_t.group == 'control_1'].revenue, u_t[u_t.group == 'test'].revenue)\n",
    "print(f'p-value {booted_data[\"p_value\"]}, ci {booted_data[\"ci\"]}')"
   ]
  },
  {
   "cell_type": "code",
   "execution_count": 99,
   "metadata": {},
   "outputs": [
    {
     "data": {
      "application/vnd.jupyter.widget-view+json": {
       "model_id": "03827988e1ef458c84285d565f2adbb5",
       "version_major": 2,
       "version_minor": 0
      },
      "text/plain": [
       "HBox(children=(FloatProgress(value=0.0, max=1000.0), HTML(value='')))"
      ]
     },
     "metadata": {},
     "output_type": "display_data"
    },
    {
     "name": "stdout",
     "output_type": "stream",
     "text": [
      "\n"
     ]
    },
    {
     "data": {
      "image/png": "[encoded data removed]",
      "text/plain": [
       "<Figure size 1008x576 with 1 Axes>"
      ]
     },
     "metadata": {},
     "output_type": "display_data"
    },
    {
     "name": "stdout",
     "output_type": "stream",
     "text": [
      "p-value 0.20991169717336744, ci                 0\n",
      "0.025 -246.465207\n",
      "0.975   61.454449\n"
     ]
    }
   ],
   "source": [
    "#контроль 2 и тест\n",
    "booted_data = get_bootstrap(u_t[u_t.group == 'control_2'].revenue, u_t[u_t.group == 'test'].revenue)\n",
    "print(f'p-value {booted_data[\"p_value\"]}, ci {booted_data[\"ci\"]}')"
   ]
  },
  {
   "cell_type": "markdown",
   "metadata": {},
   "source": [
    " p-value > 0,05, статистически значимых различий между средними значениями в контрольных и тестовой группах не обнаружено"
   ]
  },
  {
   "cell_type": "markdown",
   "metadata": {},
   "source": [
    "* ARPPU"
   ]
  },
  {
   "cell_type": "code",
   "execution_count": 60,
   "metadata": {},
   "outputs": [],
   "source": [
    "x1 = u_t.query('revenue > 0 and group == \"control_1\"')\n",
    "x2 = u_t.query('revenue > 0 and group == \"control_2\"')\n",
    "y  = u_t.query('revenue > 0 and group == \"test\"')"
   ]
  },
  {
   "cell_type": "code",
   "execution_count": 61,
   "metadata": {},
   "outputs": [
    {
     "data": {
      "application/vnd.jupyter.widget-view+json": {
       "model_id": "a2789147ba1645919ad5ad972dba3a4f",
       "version_major": 2,
       "version_minor": 0
      },
      "text/plain": [
       "HBox(children=(FloatProgress(value=0.0, max=1000.0), HTML(value='')))"
      ]
     },
     "metadata": {},
     "output_type": "display_data"
    },
    {
     "name": "stdout",
     "output_type": "stream",
     "text": [
      "\n"
     ]
    },
    {
     "data": {
      "image/png": "[encoded data removed]",
      "text/plain": [
       "<Figure size 1008x576 with 1 Axes>"
      ]
     },
     "metadata": {},
     "output_type": "display_data"
    },
    {
     "name": "stdout",
     "output_type": "stream",
     "text": [
      "p-value 0.22809739613428937, ci                  0\n",
      "0.025 -7277.303516\n",
      "0.975  2444.121875\n"
     ]
    }
   ],
   "source": [
    "#контроль 1 и тест\n",
    "booted_data = get_bootstrap(x1.revenue, y.revenue)\n",
    "print(f'p-value {booted_data[\"p_value\"]}, ci {booted_data[\"ci\"]}')"
   ]
  },
  {
   "cell_type": "code",
   "execution_count": 65,
   "metadata": {},
   "outputs": [
    {
     "data": {
      "application/vnd.jupyter.widget-view+json": {
       "model_id": "5443089fd5ea4319860a4edbfb238515",
       "version_major": 2,
       "version_minor": 0
      },
      "text/plain": [
       "HBox(children=(FloatProgress(value=0.0, max=1000.0), HTML(value='')))"
      ]
     },
     "metadata": {},
     "output_type": "display_data"
    },
    {
     "name": "stdout",
     "output_type": "stream",
     "text": [
      "\n"
     ]
    },
    {
     "data": {
      "image/png": "[encoded data removed]",
      "text/plain": [
       "<Figure size 1008x576 with 1 Axes>"
      ]
     },
     "metadata": {},
     "output_type": "display_data"
    },
    {
     "name": "stdout",
     "output_type": "stream",
     "text": [
      "p-value 0.00023616398779426637, ci                  0\n",
      "0.025 -9006.082027\n",
      "0.975 -2889.420405\n"
     ]
    }
   ],
   "source": [
    "#контроль 2 и тест\n",
    "booted_data = get_bootstrap(x2.revenue, y.revenue)\n",
    "print(f'p-value {booted_data[\"p_value\"]}, ci {booted_data[\"ci\"]}')"
   ]
  },
  {
   "cell_type": "markdown",
   "metadata": {},
   "source": [
    "обнаружено p-value < 0,05, при сравнении 2 контрольной группы с тестовой, что является основанием для отлокнения H0\n",
    "\n",
    "Попробуем объеденить контроль 1 с контроль 2 и провести еще один тест(А1+А2/В)"
   ]
  },
  {
   "cell_type": "code",
   "execution_count": 66,
   "metadata": {},
   "outputs": [
    {
     "data": {
      "application/vnd.jupyter.widget-view+json": {
       "model_id": "d406af7ada7b4da192a16405a96ed5bd",
       "version_major": 2,
       "version_minor": 0
      },
      "text/plain": [
       "HBox(children=(FloatProgress(value=0.0, max=1000.0), HTML(value='')))"
      ]
     },
     "metadata": {},
     "output_type": "display_data"
    },
    {
     "name": "stdout",
     "output_type": "stream",
     "text": [
      "\n"
     ]
    },
    {
     "data": {
      "image/png": "[encoded data removed]",
      "text/plain": [
       "<Figure size 1008x576 with 1 Axes>"
      ]
     },
     "metadata": {},
     "output_type": "display_data"
    },
    {
     "name": "stdout",
     "output_type": "stream",
     "text": [
      "p-value 0.00023616398779426637, ci                  0\n",
      "0.025 -9006.082027\n",
      "0.975 -2889.420405\n"
     ]
    }
   ],
   "source": [
    "compare = get_bootstrap(u_t.query('group in [\"control_1\", \"control_2\"] and revenue > 0')['revenue'], # числовые значения первой выборки\n",
    "                        u_t.query('group == \"test\" and revenue > 0')['revenue'])\n",
    "print(f'p-value {booted_data[\"p_value\"]}, ci {booted_data[\"ci\"]}')"
   ]
  },
  {
   "cell_type": "markdown",
   "metadata": {},
   "source": [
    "p-value < 0,05, также имеются основания для отклонения H0"
   ]
  },
  {
   "cell_type": "markdown",
   "metadata": {},
   "source": [
    "### Проведение А/А и A/B теста (Конверсия (CR) в покупку продукта premium_no_trial) "
   ]
  },
  {
   "cell_type": "code",
   "execution_count": 62,
   "metadata": {},
   "outputs": [],
   "source": [
    "#отбираем пользователей, оплативших premium_no_trial впервые из общей таблицы по транзакциям\n",
    "first_premium = all_transactions.query('product_type == \"premium_no_trial\"') \\\n",
    "                                .groupby('uid', as_index=False) \\\n",
    "                                .agg({'paid_at': 'min'}) "
   ]
  },
  {
   "cell_type": "code",
   "execution_count": 64,
   "metadata": {},
   "outputs": [],
   "source": [
    "#присвоим данным пользователем статус \"1\" \n",
    "first_premium['premium_buy'] = 1"
   ]
  },
  {
   "cell_type": "code",
   "execution_count": 65,
   "metadata": {},
   "outputs": [],
   "source": [
    "#объединяем таблицу с премиум с нашей общей таблицей u_t, заполняя пропуски 0\n",
    "premium = u_t.merge(first_premium, how='left', on='uid')\n",
    "premium['premium_buy'] = premium.premium_buy.fillna(0)"
   ]
  },
  {
   "cell_type": "code",
   "execution_count": 66,
   "metadata": {},
   "outputs": [
    {
     "data": {
      "text/html": [
       "<div>\n",
       "<style scoped>\n",
       "    .dataframe tbody tr th:only-of-type {\n",
       "        vertical-align: middle;\n",
       "    }\n",
       "\n",
       "    .dataframe tbody tr th {\n",
       "        vertical-align: top;\n",
       "    }\n",
       "\n",
       "    .dataframe thead th {\n",
       "        text-align: right;\n",
       "    }\n",
       "</style>\n",
       "<table border=\"1\" class=\"dataframe\">\n",
       "  <thead>\n",
       "    <tr style=\"text-align: right;\">\n",
       "      <th></th>\n",
       "      <th>group</th>\n",
       "      <th>CR</th>\n",
       "    </tr>\n",
       "  </thead>\n",
       "  <tbody>\n",
       "    <tr>\n",
       "      <th>0</th>\n",
       "      <td>control_1</td>\n",
       "      <td>2.292</td>\n",
       "    </tr>\n",
       "    <tr>\n",
       "      <th>1</th>\n",
       "      <td>control_2</td>\n",
       "      <td>2.383</td>\n",
       "    </tr>\n",
       "    <tr>\n",
       "      <th>2</th>\n",
       "      <td>test</td>\n",
       "      <td>1.545</td>\n",
       "    </tr>\n",
       "  </tbody>\n",
       "</table>\n",
       "</div>"
      ],
      "text/plain": [
       "       group     CR\n",
       "0  control_1  2.292\n",
       "1  control_2  2.383\n",
       "2       test  1.545"
      ]
     },
     "execution_count": 66,
     "metadata": {},
     "output_type": "execute_result"
    }
   ],
   "source": [
    "#расчитываем конверсию\n",
    "CR = premium.groupby('group', as_index=False) \\\n",
    "            .agg({'premium_buy' : 'mean'}) \\\n",
    "            .rename(columns = {'premium_buy' : 'CR'})\n",
    "CR['CR'] = CR.CR.apply(lambda x: round(x * 100, 3))\n",
    "CR"
   ]
  },
  {
   "cell_type": "markdown",
   "metadata": {},
   "source": [
    "мы видим снижение конверсии в покупку premium_no_trial в тестовой группе, будем исследовать дальше."
   ]
  },
  {
   "cell_type": "markdown",
   "metadata": {},
   "source": [
    "* Проведение А/А теста"
   ]
  },
  {
   "cell_type": "code",
   "execution_count": 68,
   "metadata": {},
   "outputs": [
    {
     "data": {
      "application/vnd.jupyter.widget-view+json": {
       "model_id": "11f49a1bc5ff40ebae720223687060bc",
       "version_major": 2,
       "version_minor": 0
      },
      "text/plain": [
       "HBox(children=(FloatProgress(value=0.0, max=1000.0), HTML(value='')))"
      ]
     },
     "metadata": {},
     "output_type": "display_data"
    },
    {
     "name": "stdout",
     "output_type": "stream",
     "text": [
      "\n"
     ]
    },
    {
     "data": {
      "image/png": "[encoded data removed]",
      "text/plain": [
       "<Figure size 1008x576 with 1 Axes>"
      ]
     },
     "metadata": {},
     "output_type": "display_data"
    },
    {
     "data": {
      "text/plain": [
       "0.001"
      ]
     },
     "execution_count": 68,
     "metadata": {},
     "output_type": "execute_result"
    }
   ],
   "source": [
    "simulations = 1000 # количество симуляций\n",
    "sample_size = 50  # размер подвыборки\n",
    "results = []\n",
    "\n",
    "# запускаем симуляции A/A теста\n",
    "for i in tqdm(range(simulations)):\n",
    "    sample1 = premium.query('group == \"control_1\"')[['group', 'premium_buy']].sample(sample_size, replace = False)\n",
    "    sample2 = premium.query('group == \"control_2\"')[['group', 'premium_buy']].sample(sample_size, replace = False)\n",
    "    results.append(chi2_contingency(pd.crosstab(pd.concat([sample1, sample2])['group'],\n",
    "                                                pd.concat([sample1, sample2])['premium_buy']))[1]) # сохраняем pvalue в список\n",
    "\n",
    "plt.hist(results, bins = 50)\n",
    "plt.style.use('ggplot')\n",
    "plt.xlabel('pvalues')\n",
    "plt.ylabel('Частота')\n",
    "plt.title(\"График симуляций A/A теста\")\n",
    "plt.show()\n",
    "\n",
    "# Проверяем, что количество ложноположительных случаев не превышает альфа\n",
    "sum(np.array(results) <0.05) / simulations"
   ]
  },
  {
   "cell_type": "markdown",
   "metadata": {},
   "source": [
    "pvalue < 0.05, система сплитования работает корректно"
   ]
  },
  {
   "cell_type": "markdown",
   "metadata": {},
   "source": [
    "### A/B тест\n",
    "\n",
    "Чтобы понять насколько статистически значимо различаются конверсии в покупку premium_no_trial - проведем A/B тест.\n",
    "к равно\n",
    "    Нулевая гипотеза (H0): Разницы между количеством пользователей, совершивших покупку в контрольной и тестовой группе, нет.\n",
    "    Альтернативная гипотеза (H1): Разница между количеством пользователей, совершивших покупку в контрольной и тестовой группе, есть.\n",
    "\n",
    "Поскольку данные в полях \"premium_buy\" и \"group\" являются категориальными переменными, то будем использовать тест Хи-квадрат"
   ]
  },
  {
   "cell_type": "code",
   "execution_count": 69,
   "metadata": {},
   "outputs": [
    {
     "data": {
      "text/html": [
       "<div>\n",
       "<style scoped>\n",
       "    .dataframe tbody tr th:only-of-type {\n",
       "        vertical-align: middle;\n",
       "    }\n",
       "\n",
       "    .dataframe tbody tr th {\n",
       "        vertical-align: top;\n",
       "    }\n",
       "\n",
       "    .dataframe thead th {\n",
       "        text-align: right;\n",
       "    }\n",
       "</style>\n",
       "<table border=\"1\" class=\"dataframe\">\n",
       "  <thead>\n",
       "    <tr style=\"text-align: right;\">\n",
       "      <th>premium_buy</th>\n",
       "      <th>0.0</th>\n",
       "      <th>1.0</th>\n",
       "    </tr>\n",
       "    <tr>\n",
       "      <th>group</th>\n",
       "      <th></th>\n",
       "      <th></th>\n",
       "    </tr>\n",
       "  </thead>\n",
       "  <tbody>\n",
       "    <tr>\n",
       "      <th>control_1</th>\n",
       "      <td>4220</td>\n",
       "      <td>99</td>\n",
       "    </tr>\n",
       "    <tr>\n",
       "      <th>control_2</th>\n",
       "      <td>4137</td>\n",
       "      <td>101</td>\n",
       "    </tr>\n",
       "    <tr>\n",
       "      <th>test</th>\n",
       "      <td>4205</td>\n",
       "      <td>66</td>\n",
       "    </tr>\n",
       "  </tbody>\n",
       "</table>\n",
       "</div>"
      ],
      "text/plain": [
       "premium_buy   0.0  1.0\n",
       "group                 \n",
       "control_1    4220   99\n",
       "control_2    4137  101\n",
       "test         4205   66"
      ]
     },
     "execution_count": 69,
     "metadata": {},
     "output_type": "execute_result"
    }
   ],
   "source": [
    "df = premium[['group', 'premium_buy']]\n",
    "pd.crosstab(df.group, df.premium_buy)"
   ]
  },
  {
   "cell_type": "code",
   "execution_count": 70,
   "metadata": {},
   "outputs": [
    {
     "name": "stdout",
     "output_type": "stream",
     "text": [
      "Отвергаем нулевую гипотезу\n"
     ]
    }
   ],
   "source": [
    "stat, p, dof, expected = chi2_contingency(pd.crosstab(df.group, df.premium_buy))\n",
    "if p < 0.05:\n",
    "    print('Отвергаем нулевую гипотезу')\n",
    "else:\n",
    "    print('Не получилось отвергнуть нулевую гипотезу')"
   ]
  },
  {
   "cell_type": "markdown",
   "metadata": {},
   "source": [
    "## Выводы:"
   ]
  },
  {
   "cell_type": "markdown",
   "metadata": {},
   "source": [
    "Таким образом, мы приходим к выводу, что в целом эксперимент привел к неоднозначным результатам.\n",
    "\n",
    "С одной стороны средняя выручка с платящих пользователей (ARPPU) статистически значимо возросла, при этом наблюдается снижение показателей средней выручки с пользователей платформы (ARPU) и конверсии в подписку premium_no_trial. Можно сделать вывод, что стоимость премиум-подписки без пробной была увеличена, что привело к снижению числа новых подписок в тестовой группе, вместе с тем, за счет такого поднятия цен удалось добиться увелечения показателя ARPPU.\n",
    "\n",
    "Рекомендуется не раскатывать данное обновление платформы на всех пользователей приложения, а выбрать более узкий круг пользователей, на которых данные нововведения отражатся более эффективно."
   ]
  },
  {
   "cell_type": "markdown",
   "metadata": {},
   "source": [
    "### Для каких конкретных групп пользователей нововведение имеет смысл\n",
    "\n",
    "Как мы помним из анализа таблиц users, 50 процентиль по анализу возраста составляет 30 лет, чтож попробуем проанализирвоать метрики ARPU и CR в разрезе двух групп: моложе 30 и старше 30."
   ]
  },
  {
   "cell_type": "markdown",
   "metadata": {},
   "source": [
    "* группа до 30 лет"
   ]
  },
  {
   "cell_type": "code",
   "execution_count": 115,
   "metadata": {},
   "outputs": [],
   "source": [
    "#ARPU\n",
    "x1 = u_t.query('group == \"control_1\" and age <= 30').revenue\n",
    "x2 = u_t.query('group == \"control_2\" and age <= 30').revenue\n",
    "y = u_t.query('group == \"test\" and age <= 30').revenue"
   ]
  },
  {
   "cell_type": "code",
   "execution_count": 118,
   "metadata": {},
   "outputs": [
    {
     "data": {
      "application/vnd.jupyter.widget-view+json": {
       "model_id": "64cee6d562194ee1947cc48e0c991230",
       "version_major": 2,
       "version_minor": 0
      },
      "text/plain": [
       "HBox(children=(FloatProgress(value=0.0, max=1000.0), HTML(value='')))"
      ]
     },
     "metadata": {},
     "output_type": "display_data"
    },
    {
     "name": "stdout",
     "output_type": "stream",
     "text": [
      "\n"
     ]
    },
    {
     "data": {
      "image/png": "[encoded data removed]",
      "text/plain": [
       "<Figure size 432x288 with 1 Axes>"
      ]
     },
     "metadata": {
      "needs_background": "light"
     },
     "output_type": "display_data"
    },
    {
     "name": "stdout",
     "output_type": "stream",
     "text": [
      "p-value 0.178156559203694, ci                 0\n",
      "0.025  -69.537744\n",
      "0.975  745.898358\n"
     ]
    }
   ],
   "source": [
    "#контроль 1 и тест\n",
    "booted_data = get_bootstrap(x1, y)\n",
    "print(f'p-value {booted_data[\"p_value\"]}, ci {booted_data[\"ci\"]}')"
   ]
  },
  {
   "cell_type": "code",
   "execution_count": 119,
   "metadata": {},
   "outputs": [
    {
     "data": {
      "application/vnd.jupyter.widget-view+json": {
       "model_id": "6fd43552fd714bce927299b5c1bc068e",
       "version_major": 2,
       "version_minor": 0
      },
      "text/plain": [
       "HBox(children=(FloatProgress(value=0.0, max=1000.0), HTML(value='')))"
      ]
     },
     "metadata": {},
     "output_type": "display_data"
    },
    {
     "name": "stdout",
     "output_type": "stream",
     "text": [
      "\n"
     ]
    },
    {
     "data": {
      "image/png": "[encoded data removed]",
      "text/plain": [
       "<Figure size 432x288 with 1 Axes>"
      ]
     },
     "metadata": {},
     "output_type": "display_data"
    },
    {
     "name": "stdout",
     "output_type": "stream",
     "text": [
      "p-value 0.8600649803462799, ci                 0\n",
      "0.025 -204.706167\n",
      "0.975  223.437500\n"
     ]
    }
   ],
   "source": [
    "#контроль 2 и тест\n",
    "booted_data = get_bootstrap(x2, y)\n",
    "print(f'p-value {booted_data[\"p_value\"]}, ci {booted_data[\"ci\"]}')"
   ]
  },
  {
   "cell_type": "code",
   "execution_count": 71,
   "metadata": {},
   "outputs": [
    {
     "data": {
      "text/html": [
       "<div>\n",
       "<style scoped>\n",
       "    .dataframe tbody tr th:only-of-type {\n",
       "        vertical-align: middle;\n",
       "    }\n",
       "\n",
       "    .dataframe tbody tr th {\n",
       "        vertical-align: top;\n",
       "    }\n",
       "\n",
       "    .dataframe thead th {\n",
       "        text-align: right;\n",
       "    }\n",
       "</style>\n",
       "<table border=\"1\" class=\"dataframe\">\n",
       "  <thead>\n",
       "    <tr style=\"text-align: right;\">\n",
       "      <th></th>\n",
       "      <th>group</th>\n",
       "      <th>premium_buy</th>\n",
       "    </tr>\n",
       "  </thead>\n",
       "  <tbody>\n",
       "    <tr>\n",
       "      <th>0</th>\n",
       "      <td>control_1</td>\n",
       "      <td>0.027778</td>\n",
       "    </tr>\n",
       "    <tr>\n",
       "      <th>1</th>\n",
       "      <td>control_2</td>\n",
       "      <td>0.029559</td>\n",
       "    </tr>\n",
       "    <tr>\n",
       "      <th>2</th>\n",
       "      <td>test</td>\n",
       "      <td>0.013310</td>\n",
       "    </tr>\n",
       "  </tbody>\n",
       "</table>\n",
       "</div>"
      ],
      "text/plain": [
       "       group  premium_buy\n",
       "0  control_1     0.027778\n",
       "1  control_2     0.029559\n",
       "2       test     0.013310"
      ]
     },
     "execution_count": 71,
     "metadata": {},
     "output_type": "execute_result"
    }
   ],
   "source": [
    "premium.query('age <= 30').groupby('group', as_index=False).agg({'premium_buy': 'mean'})"
   ]
  },
  {
   "cell_type": "markdown",
   "metadata": {},
   "source": [
    " p-value > 0,05, статистически значимых различий между средними значениями в контрольных и тестовой группах не обнаружено; CR снизилась"
   ]
  },
  {
   "cell_type": "markdown",
   "metadata": {},
   "source": [
    "* группа старше 30 лет"
   ]
  },
  {
   "cell_type": "code",
   "execution_count": 73,
   "metadata": {},
   "outputs": [],
   "source": [
    "a1 = u_t.query('group == \"control_1\" and age > 30').revenue\n",
    "a2 = u_t.query('group == \"control_2\" and age > 30').revenue\n",
    "b = u_t.query('group == \"test\" and age > 30').revenue"
   ]
  },
  {
   "cell_type": "code",
   "execution_count": 125,
   "metadata": {},
   "outputs": [
    {
     "data": {
      "application/vnd.jupyter.widget-view+json": {
       "model_id": "4fd6ead76aef4929b0dce6709bf29e67",
       "version_major": 2,
       "version_minor": 0
      },
      "text/plain": [
       "HBox(children=(FloatProgress(value=0.0, max=1000.0), HTML(value='')))"
      ]
     },
     "metadata": {},
     "output_type": "display_data"
    },
    {
     "name": "stdout",
     "output_type": "stream",
     "text": [
      "\n"
     ]
    },
    {
     "data": {
      "image/png": "[encoded data removed]",
      "text/plain": [
       "<Figure size 432x288 with 1 Axes>"
      ]
     },
     "metadata": {},
     "output_type": "display_data"
    },
    {
     "name": "stdout",
     "output_type": "stream",
     "text": [
      "p-value 0.036240993763753566, ci                 0\n",
      "0.025 -485.154300\n",
      "0.975  -25.041663\n"
     ]
    }
   ],
   "source": [
    "#контроль 1 и тест\n",
    "booted_data = get_bootstrap(a1, b)\n",
    "print(f'p-value {booted_data[\"p_value\"]}, ci {booted_data[\"ci\"]}')"
   ]
  },
  {
   "cell_type": "code",
   "execution_count": 81,
   "metadata": {},
   "outputs": [
    {
     "data": {
      "application/vnd.jupyter.widget-view+json": {
       "model_id": "9dcf2c92a6b84a1495e67d7e14437046",
       "version_major": 2,
       "version_minor": 0
      },
      "text/plain": [
       "HBox(children=(FloatProgress(value=0.0, max=1000.0), HTML(value='')))"
      ]
     },
     "metadata": {},
     "output_type": "display_data"
    },
    {
     "name": "stdout",
     "output_type": "stream",
     "text": [
      "\n"
     ]
    },
    {
     "data": {
      "image/png": "[encoded data removed]",
      "text/plain": [
       "<Figure size 1008x576 with 1 Axes>"
      ]
     },
     "metadata": {},
     "output_type": "display_data"
    },
    {
     "name": "stdout",
     "output_type": "stream",
     "text": [
      "p-value 0.046577647747611875, ci                 0\n",
      "0.025 -492.643416\n",
      "0.975  -17.226275\n"
     ]
    }
   ],
   "source": [
    "#контроль 2 и тест\n",
    "booted_data = get_bootstrap(a2, b)\n",
    "print(f'p-value {booted_data[\"p_value\"]}, ci {booted_data[\"ci\"]}')"
   ]
  },
  {
   "cell_type": "code",
   "execution_count": 82,
   "metadata": {},
   "outputs": [
    {
     "data": {
      "text/html": [
       "<div>\n",
       "<style scoped>\n",
       "    .dataframe tbody tr th:only-of-type {\n",
       "        vertical-align: middle;\n",
       "    }\n",
       "\n",
       "    .dataframe tbody tr th {\n",
       "        vertical-align: top;\n",
       "    }\n",
       "\n",
       "    .dataframe thead th {\n",
       "        text-align: right;\n",
       "    }\n",
       "</style>\n",
       "<table border=\"1\" class=\"dataframe\">\n",
       "  <thead>\n",
       "    <tr style=\"text-align: right;\">\n",
       "      <th></th>\n",
       "      <th>group</th>\n",
       "      <th>is_premium</th>\n",
       "    </tr>\n",
       "  </thead>\n",
       "  <tbody>\n",
       "    <tr>\n",
       "      <th>0</th>\n",
       "      <td>control_1</td>\n",
       "      <td>0.037853</td>\n",
       "    </tr>\n",
       "    <tr>\n",
       "      <th>1</th>\n",
       "      <td>control_2</td>\n",
       "      <td>0.041687</td>\n",
       "    </tr>\n",
       "    <tr>\n",
       "      <th>2</th>\n",
       "      <td>test</td>\n",
       "      <td>0.043629</td>\n",
       "    </tr>\n",
       "  </tbody>\n",
       "</table>\n",
       "</div>"
      ],
      "text/plain": [
       "       group  is_premium\n",
       "0  control_1    0.037853\n",
       "1  control_2    0.041687\n",
       "2       test    0.043629"
      ]
     },
     "execution_count": 82,
     "metadata": {},
     "output_type": "execute_result"
    }
   ],
   "source": [
    "premium.query('age > 30').groupby('group', as_index=False).agg({'is_premium': 'mean'})"
   ]
  },
  {
   "cell_type": "markdown",
   "metadata": {},
   "source": [
    "Как мы видим в группе пользователей страше 30 лет в тестовой группе произошло увелечение конверсии в подписку, а также показатель ARPU. Считаем целессорбазным выкатывать изменения цены на премиум подписку только на данную группу пользователей."
   ]
  },
  {
   "cell_type": "code",
   "execution_count": null,
   "metadata": {},
   "outputs": [],
   "source": []
  }
 ],
 "metadata": {
  "kernelspec": {
   "display_name": "Python 3",
   "language": "python",
   "name": "python3"
  },
  "language_info": {
   "codemirror_mode": {
    "name": "ipython",
    "version": 3
   },
   "file_extension": ".py",
   "mimetype": "text/x-python",
   "name": "python",
   "nbconvert_exporter": "python",
   "pygments_lexer": "ipython3",
   "version": "3.7.3"
  }
 },
 "nbformat": 4,
 "nbformat_minor": 4
}
